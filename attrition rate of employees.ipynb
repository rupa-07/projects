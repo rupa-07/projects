{
 "cells": [
  {
   "cell_type": "markdown",
   "id": "afbf1921",
   "metadata": {},
   "source": [
    "### Uncover the factors that lead to employee attrition.\n",
    "### Show graphically using density charts:\n",
    "### Show influence of different factors on attrition rate\n",
    "### Which department is facing a major attrition problem.\n",
    "### Show a breakdown of distance from home by job role and attrition’\n",
    "### compare average monthly income by education and attrition\n",
    "### Provide few solutions to the problem of attrition at the company."
   ]
  },
  {
   "cell_type": "markdown",
   "id": "d313a446",
   "metadata": {},
   "source": [
    "# to estimate the factors corresponding to Attrition rate of employees."
   ]
  },
  {
   "cell_type": "code",
   "execution_count": 59,
   "id": "4dacc492",
   "metadata": {},
   "outputs": [],
   "source": [
    "### Import the required packages\n",
    "import pandas as pd\n",
    "import numpy as np\n",
    "from sklearn import metrics\n",
    "import matplotlib.pyplot as plt\n",
    "%matplotlib inline \n",
    "import seaborn as sns\n",
    "from sklearn.model_selection import train_test_split\n",
    "from sklearn.tree import DecisionTreeClassifier\n",
    "#from sklearn.feature_extraction.text import CountVectorizer  #DT does not take strings as input for the model fit step....\n",
    "from IPython.display import Image  \n",
    "#import pydotplus as pydot\n",
    "from sklearn import tree\n",
    "from os import system"
   ]
  },
  {
   "cell_type": "code",
   "execution_count": 60,
   "id": "bb787d0b",
   "metadata": {},
   "outputs": [],
   "source": [
    "df = pd.read_csv(\"Attrition Data.csv\")"
   ]
  },
  {
   "cell_type": "code",
   "execution_count": 61,
   "id": "6d514876",
   "metadata": {},
   "outputs": [
    {
     "data": {
      "text/plain": [
       "(1470, 25)"
      ]
     },
     "execution_count": 61,
     "metadata": {},
     "output_type": "execute_result"
    }
   ],
   "source": [
    "df.shape"
   ]
  },
  {
   "cell_type": "code",
   "execution_count": 62,
   "id": "a6dd8ebd",
   "metadata": {},
   "outputs": [
    {
     "data": {
      "text/html": [
       "<div>\n",
       "<style scoped>\n",
       "    .dataframe tbody tr th:only-of-type {\n",
       "        vertical-align: middle;\n",
       "    }\n",
       "\n",
       "    .dataframe tbody tr th {\n",
       "        vertical-align: top;\n",
       "    }\n",
       "\n",
       "    .dataframe thead th {\n",
       "        text-align: right;\n",
       "    }\n",
       "</style>\n",
       "<table border=\"1\" class=\"dataframe\">\n",
       "  <thead>\n",
       "    <tr style=\"text-align: right;\">\n",
       "      <th></th>\n",
       "      <th>Attrition</th>\n",
       "      <th>Age</th>\n",
       "      <th>BusinessTravel</th>\n",
       "      <th>Department</th>\n",
       "      <th>DistanceFromHome</th>\n",
       "      <th>Education</th>\n",
       "      <th>EducationField</th>\n",
       "      <th>EnvironmentSatisfaction</th>\n",
       "      <th>Gender</th>\n",
       "      <th>JobInvolvement</th>\n",
       "      <th>...</th>\n",
       "      <th>OverTime</th>\n",
       "      <th>PercentSalaryHike</th>\n",
       "      <th>PerformanceRating</th>\n",
       "      <th>RelationshipSatisfaction</th>\n",
       "      <th>TotalWorkingYears</th>\n",
       "      <th>WorkLifeBalance</th>\n",
       "      <th>YearsAtCompany</th>\n",
       "      <th>YearsInCurrentRole</th>\n",
       "      <th>YearsSinceLastPromotion</th>\n",
       "      <th>YearsWithCurrManager</th>\n",
       "    </tr>\n",
       "  </thead>\n",
       "  <tbody>\n",
       "    <tr>\n",
       "      <th>0</th>\n",
       "      <td>Yes</td>\n",
       "      <td>41</td>\n",
       "      <td>Travel_Rarely</td>\n",
       "      <td>Sales</td>\n",
       "      <td>1</td>\n",
       "      <td>2</td>\n",
       "      <td>Life Sciences</td>\n",
       "      <td>2</td>\n",
       "      <td>Female</td>\n",
       "      <td>3</td>\n",
       "      <td>...</td>\n",
       "      <td>Yes</td>\n",
       "      <td>11</td>\n",
       "      <td>3</td>\n",
       "      <td>1</td>\n",
       "      <td>8</td>\n",
       "      <td>1</td>\n",
       "      <td>6</td>\n",
       "      <td>4</td>\n",
       "      <td>0</td>\n",
       "      <td>5</td>\n",
       "    </tr>\n",
       "    <tr>\n",
       "      <th>1</th>\n",
       "      <td>No</td>\n",
       "      <td>49</td>\n",
       "      <td>Travel_Frequently</td>\n",
       "      <td>Research &amp; Development</td>\n",
       "      <td>8</td>\n",
       "      <td>1</td>\n",
       "      <td>Life Sciences</td>\n",
       "      <td>3</td>\n",
       "      <td>Male</td>\n",
       "      <td>2</td>\n",
       "      <td>...</td>\n",
       "      <td>No</td>\n",
       "      <td>23</td>\n",
       "      <td>4</td>\n",
       "      <td>4</td>\n",
       "      <td>10</td>\n",
       "      <td>3</td>\n",
       "      <td>10</td>\n",
       "      <td>7</td>\n",
       "      <td>1</td>\n",
       "      <td>7</td>\n",
       "    </tr>\n",
       "    <tr>\n",
       "      <th>2</th>\n",
       "      <td>Yes</td>\n",
       "      <td>37</td>\n",
       "      <td>Travel_Rarely</td>\n",
       "      <td>Research &amp; Development</td>\n",
       "      <td>2</td>\n",
       "      <td>2</td>\n",
       "      <td>Other</td>\n",
       "      <td>4</td>\n",
       "      <td>Male</td>\n",
       "      <td>2</td>\n",
       "      <td>...</td>\n",
       "      <td>Yes</td>\n",
       "      <td>15</td>\n",
       "      <td>3</td>\n",
       "      <td>2</td>\n",
       "      <td>7</td>\n",
       "      <td>3</td>\n",
       "      <td>0</td>\n",
       "      <td>0</td>\n",
       "      <td>0</td>\n",
       "      <td>0</td>\n",
       "    </tr>\n",
       "    <tr>\n",
       "      <th>3</th>\n",
       "      <td>No</td>\n",
       "      <td>33</td>\n",
       "      <td>Travel_Frequently</td>\n",
       "      <td>Research &amp; Development</td>\n",
       "      <td>3</td>\n",
       "      <td>4</td>\n",
       "      <td>Life Sciences</td>\n",
       "      <td>4</td>\n",
       "      <td>Female</td>\n",
       "      <td>3</td>\n",
       "      <td>...</td>\n",
       "      <td>Yes</td>\n",
       "      <td>11</td>\n",
       "      <td>3</td>\n",
       "      <td>3</td>\n",
       "      <td>8</td>\n",
       "      <td>3</td>\n",
       "      <td>8</td>\n",
       "      <td>7</td>\n",
       "      <td>3</td>\n",
       "      <td>0</td>\n",
       "    </tr>\n",
       "    <tr>\n",
       "      <th>4</th>\n",
       "      <td>No</td>\n",
       "      <td>27</td>\n",
       "      <td>Travel_Rarely</td>\n",
       "      <td>Research &amp; Development</td>\n",
       "      <td>2</td>\n",
       "      <td>1</td>\n",
       "      <td>Medical</td>\n",
       "      <td>1</td>\n",
       "      <td>Male</td>\n",
       "      <td>3</td>\n",
       "      <td>...</td>\n",
       "      <td>No</td>\n",
       "      <td>12</td>\n",
       "      <td>3</td>\n",
       "      <td>4</td>\n",
       "      <td>6</td>\n",
       "      <td>3</td>\n",
       "      <td>2</td>\n",
       "      <td>2</td>\n",
       "      <td>2</td>\n",
       "      <td>2</td>\n",
       "    </tr>\n",
       "  </tbody>\n",
       "</table>\n",
       "<p>5 rows × 25 columns</p>\n",
       "</div>"
      ],
      "text/plain": [
       "  Attrition  Age     BusinessTravel              Department  DistanceFromHome  \\\n",
       "0       Yes   41      Travel_Rarely                   Sales                 1   \n",
       "1        No   49  Travel_Frequently  Research & Development                 8   \n",
       "2       Yes   37      Travel_Rarely  Research & Development                 2   \n",
       "3        No   33  Travel_Frequently  Research & Development                 3   \n",
       "4        No   27      Travel_Rarely  Research & Development                 2   \n",
       "\n",
       "   Education EducationField  EnvironmentSatisfaction  Gender  JobInvolvement  \\\n",
       "0          2  Life Sciences                        2  Female               3   \n",
       "1          1  Life Sciences                        3    Male               2   \n",
       "2          2          Other                        4    Male               2   \n",
       "3          4  Life Sciences                        4  Female               3   \n",
       "4          1        Medical                        1    Male               3   \n",
       "\n",
       "   ... OverTime  PercentSalaryHike PerformanceRating  \\\n",
       "0  ...      Yes                 11                 3   \n",
       "1  ...       No                 23                 4   \n",
       "2  ...      Yes                 15                 3   \n",
       "3  ...      Yes                 11                 3   \n",
       "4  ...       No                 12                 3   \n",
       "\n",
       "   RelationshipSatisfaction  TotalWorkingYears WorkLifeBalance  \\\n",
       "0                         1                  8               1   \n",
       "1                         4                 10               3   \n",
       "2                         2                  7               3   \n",
       "3                         3                  8               3   \n",
       "4                         4                  6               3   \n",
       "\n",
       "   YearsAtCompany  YearsInCurrentRole  YearsSinceLastPromotion  \\\n",
       "0               6                   4                        0   \n",
       "1              10                   7                        1   \n",
       "2               0                   0                        0   \n",
       "3               8                   7                        3   \n",
       "4               2                   2                        2   \n",
       "\n",
       "   YearsWithCurrManager  \n",
       "0                     5  \n",
       "1                     7  \n",
       "2                     0  \n",
       "3                     0  \n",
       "4                     2  \n",
       "\n",
       "[5 rows x 25 columns]"
      ]
     },
     "execution_count": 62,
     "metadata": {},
     "output_type": "execute_result"
    }
   ],
   "source": [
    "df.head()"
   ]
  },
  {
   "cell_type": "code",
   "execution_count": 5,
   "id": "88940330",
   "metadata": {},
   "outputs": [
    {
     "name": "stdout",
     "output_type": "stream",
     "text": [
      "<class 'pandas.core.frame.DataFrame'>\n",
      "RangeIndex: 1470 entries, 0 to 1469\n",
      "Data columns (total 25 columns):\n",
      " #   Column                    Non-Null Count  Dtype \n",
      "---  ------                    --------------  ----- \n",
      " 0   Attrition                 1470 non-null   object\n",
      " 1   Age                       1470 non-null   int64 \n",
      " 2   BusinessTravel            1470 non-null   object\n",
      " 3   Department                1470 non-null   object\n",
      " 4   DistanceFromHome          1470 non-null   int64 \n",
      " 5   Education                 1470 non-null   int64 \n",
      " 6   EducationField            1470 non-null   object\n",
      " 7   EnvironmentSatisfaction   1470 non-null   int64 \n",
      " 8   Gender                    1470 non-null   object\n",
      " 9   JobInvolvement            1470 non-null   int64 \n",
      " 10  JobRole                   1470 non-null   object\n",
      " 11  JobSatisfaction           1470 non-null   int64 \n",
      " 12  MaritalStatus             1470 non-null   object\n",
      " 13  MonthlyIncome             1470 non-null   int64 \n",
      " 14  NumCompaniesWorked        1470 non-null   int64 \n",
      " 15  OverTime                  1470 non-null   object\n",
      " 16  PercentSalaryHike         1470 non-null   int64 \n",
      " 17  PerformanceRating         1470 non-null   int64 \n",
      " 18  RelationshipSatisfaction  1470 non-null   int64 \n",
      " 19  TotalWorkingYears         1470 non-null   int64 \n",
      " 20  WorkLifeBalance           1470 non-null   int64 \n",
      " 21  YearsAtCompany            1470 non-null   int64 \n",
      " 22  YearsInCurrentRole        1470 non-null   int64 \n",
      " 23  YearsSinceLastPromotion   1470 non-null   int64 \n",
      " 24  YearsWithCurrManager      1470 non-null   int64 \n",
      "dtypes: int64(17), object(8)\n",
      "memory usage: 287.2+ KB\n"
     ]
    }
   ],
   "source": [
    "df.info() #as can be seen , no null data"
   ]
  },
  {
   "cell_type": "code",
   "execution_count": 6,
   "id": "d9174146",
   "metadata": {},
   "outputs": [
    {
     "data": {
      "text/html": [
       "<div>\n",
       "<style scoped>\n",
       "    .dataframe tbody tr th:only-of-type {\n",
       "        vertical-align: middle;\n",
       "    }\n",
       "\n",
       "    .dataframe tbody tr th {\n",
       "        vertical-align: top;\n",
       "    }\n",
       "\n",
       "    .dataframe thead th {\n",
       "        text-align: right;\n",
       "    }\n",
       "</style>\n",
       "<table border=\"1\" class=\"dataframe\">\n",
       "  <thead>\n",
       "    <tr style=\"text-align: right;\">\n",
       "      <th></th>\n",
       "      <th>Age</th>\n",
       "      <th>DistanceFromHome</th>\n",
       "      <th>Education</th>\n",
       "      <th>EnvironmentSatisfaction</th>\n",
       "      <th>JobInvolvement</th>\n",
       "      <th>JobSatisfaction</th>\n",
       "      <th>MonthlyIncome</th>\n",
       "      <th>NumCompaniesWorked</th>\n",
       "      <th>PercentSalaryHike</th>\n",
       "      <th>PerformanceRating</th>\n",
       "      <th>RelationshipSatisfaction</th>\n",
       "      <th>TotalWorkingYears</th>\n",
       "      <th>WorkLifeBalance</th>\n",
       "      <th>YearsAtCompany</th>\n",
       "      <th>YearsInCurrentRole</th>\n",
       "      <th>YearsSinceLastPromotion</th>\n",
       "      <th>YearsWithCurrManager</th>\n",
       "    </tr>\n",
       "  </thead>\n",
       "  <tbody>\n",
       "    <tr>\n",
       "      <th>Age</th>\n",
       "      <td>1.000000</td>\n",
       "      <td>-0.001686</td>\n",
       "      <td>0.208034</td>\n",
       "      <td>0.010146</td>\n",
       "      <td>0.029820</td>\n",
       "      <td>-0.004892</td>\n",
       "      <td>0.497855</td>\n",
       "      <td>0.299635</td>\n",
       "      <td>0.003634</td>\n",
       "      <td>0.001904</td>\n",
       "      <td>0.053535</td>\n",
       "      <td>0.680381</td>\n",
       "      <td>-0.021490</td>\n",
       "      <td>0.311309</td>\n",
       "      <td>0.212901</td>\n",
       "      <td>0.216513</td>\n",
       "      <td>0.202089</td>\n",
       "    </tr>\n",
       "    <tr>\n",
       "      <th>DistanceFromHome</th>\n",
       "      <td>-0.001686</td>\n",
       "      <td>1.000000</td>\n",
       "      <td>0.021042</td>\n",
       "      <td>-0.016075</td>\n",
       "      <td>0.008783</td>\n",
       "      <td>-0.003669</td>\n",
       "      <td>-0.017014</td>\n",
       "      <td>-0.029251</td>\n",
       "      <td>0.040235</td>\n",
       "      <td>0.027110</td>\n",
       "      <td>0.006557</td>\n",
       "      <td>0.004628</td>\n",
       "      <td>-0.026556</td>\n",
       "      <td>0.009508</td>\n",
       "      <td>0.018845</td>\n",
       "      <td>0.010029</td>\n",
       "      <td>0.014406</td>\n",
       "    </tr>\n",
       "    <tr>\n",
       "      <th>Education</th>\n",
       "      <td>0.208034</td>\n",
       "      <td>0.021042</td>\n",
       "      <td>1.000000</td>\n",
       "      <td>-0.027128</td>\n",
       "      <td>0.042438</td>\n",
       "      <td>-0.011296</td>\n",
       "      <td>0.094961</td>\n",
       "      <td>0.126317</td>\n",
       "      <td>-0.011111</td>\n",
       "      <td>-0.024539</td>\n",
       "      <td>-0.009118</td>\n",
       "      <td>0.148280</td>\n",
       "      <td>0.009819</td>\n",
       "      <td>0.069114</td>\n",
       "      <td>0.060236</td>\n",
       "      <td>0.054254</td>\n",
       "      <td>0.069065</td>\n",
       "    </tr>\n",
       "    <tr>\n",
       "      <th>EnvironmentSatisfaction</th>\n",
       "      <td>0.010146</td>\n",
       "      <td>-0.016075</td>\n",
       "      <td>-0.027128</td>\n",
       "      <td>1.000000</td>\n",
       "      <td>-0.008278</td>\n",
       "      <td>-0.006784</td>\n",
       "      <td>-0.006259</td>\n",
       "      <td>0.012594</td>\n",
       "      <td>-0.031701</td>\n",
       "      <td>-0.029548</td>\n",
       "      <td>0.007665</td>\n",
       "      <td>-0.002693</td>\n",
       "      <td>0.027627</td>\n",
       "      <td>0.001458</td>\n",
       "      <td>0.018007</td>\n",
       "      <td>0.016194</td>\n",
       "      <td>-0.004999</td>\n",
       "    </tr>\n",
       "    <tr>\n",
       "      <th>JobInvolvement</th>\n",
       "      <td>0.029820</td>\n",
       "      <td>0.008783</td>\n",
       "      <td>0.042438</td>\n",
       "      <td>-0.008278</td>\n",
       "      <td>1.000000</td>\n",
       "      <td>-0.021476</td>\n",
       "      <td>-0.015271</td>\n",
       "      <td>0.015012</td>\n",
       "      <td>-0.017205</td>\n",
       "      <td>-0.029071</td>\n",
       "      <td>0.034297</td>\n",
       "      <td>-0.005533</td>\n",
       "      <td>-0.014617</td>\n",
       "      <td>-0.021355</td>\n",
       "      <td>0.008717</td>\n",
       "      <td>-0.024184</td>\n",
       "      <td>0.025976</td>\n",
       "    </tr>\n",
       "    <tr>\n",
       "      <th>JobSatisfaction</th>\n",
       "      <td>-0.004892</td>\n",
       "      <td>-0.003669</td>\n",
       "      <td>-0.011296</td>\n",
       "      <td>-0.006784</td>\n",
       "      <td>-0.021476</td>\n",
       "      <td>1.000000</td>\n",
       "      <td>-0.007157</td>\n",
       "      <td>-0.055699</td>\n",
       "      <td>0.020002</td>\n",
       "      <td>0.002297</td>\n",
       "      <td>-0.012454</td>\n",
       "      <td>-0.020185</td>\n",
       "      <td>-0.019459</td>\n",
       "      <td>-0.003803</td>\n",
       "      <td>-0.002305</td>\n",
       "      <td>-0.018214</td>\n",
       "      <td>-0.027656</td>\n",
       "    </tr>\n",
       "    <tr>\n",
       "      <th>MonthlyIncome</th>\n",
       "      <td>0.497855</td>\n",
       "      <td>-0.017014</td>\n",
       "      <td>0.094961</td>\n",
       "      <td>-0.006259</td>\n",
       "      <td>-0.015271</td>\n",
       "      <td>-0.007157</td>\n",
       "      <td>1.000000</td>\n",
       "      <td>0.149515</td>\n",
       "      <td>-0.027269</td>\n",
       "      <td>-0.017120</td>\n",
       "      <td>0.025873</td>\n",
       "      <td>0.772893</td>\n",
       "      <td>0.030683</td>\n",
       "      <td>0.514285</td>\n",
       "      <td>0.363818</td>\n",
       "      <td>0.344978</td>\n",
       "      <td>0.344079</td>\n",
       "    </tr>\n",
       "    <tr>\n",
       "      <th>NumCompaniesWorked</th>\n",
       "      <td>0.299635</td>\n",
       "      <td>-0.029251</td>\n",
       "      <td>0.126317</td>\n",
       "      <td>0.012594</td>\n",
       "      <td>0.015012</td>\n",
       "      <td>-0.055699</td>\n",
       "      <td>0.149515</td>\n",
       "      <td>1.000000</td>\n",
       "      <td>-0.010238</td>\n",
       "      <td>-0.014095</td>\n",
       "      <td>0.052733</td>\n",
       "      <td>0.237639</td>\n",
       "      <td>-0.008366</td>\n",
       "      <td>-0.118421</td>\n",
       "      <td>-0.090754</td>\n",
       "      <td>-0.036814</td>\n",
       "      <td>-0.110319</td>\n",
       "    </tr>\n",
       "    <tr>\n",
       "      <th>PercentSalaryHike</th>\n",
       "      <td>0.003634</td>\n",
       "      <td>0.040235</td>\n",
       "      <td>-0.011111</td>\n",
       "      <td>-0.031701</td>\n",
       "      <td>-0.017205</td>\n",
       "      <td>0.020002</td>\n",
       "      <td>-0.027269</td>\n",
       "      <td>-0.010238</td>\n",
       "      <td>1.000000</td>\n",
       "      <td>0.773550</td>\n",
       "      <td>-0.040490</td>\n",
       "      <td>-0.020608</td>\n",
       "      <td>-0.003280</td>\n",
       "      <td>-0.035991</td>\n",
       "      <td>-0.001520</td>\n",
       "      <td>-0.022154</td>\n",
       "      <td>-0.011985</td>\n",
       "    </tr>\n",
       "    <tr>\n",
       "      <th>PerformanceRating</th>\n",
       "      <td>0.001904</td>\n",
       "      <td>0.027110</td>\n",
       "      <td>-0.024539</td>\n",
       "      <td>-0.029548</td>\n",
       "      <td>-0.029071</td>\n",
       "      <td>0.002297</td>\n",
       "      <td>-0.017120</td>\n",
       "      <td>-0.014095</td>\n",
       "      <td>0.773550</td>\n",
       "      <td>1.000000</td>\n",
       "      <td>-0.031351</td>\n",
       "      <td>0.006744</td>\n",
       "      <td>0.002572</td>\n",
       "      <td>0.003435</td>\n",
       "      <td>0.034986</td>\n",
       "      <td>0.017896</td>\n",
       "      <td>0.022827</td>\n",
       "    </tr>\n",
       "    <tr>\n",
       "      <th>RelationshipSatisfaction</th>\n",
       "      <td>0.053535</td>\n",
       "      <td>0.006557</td>\n",
       "      <td>-0.009118</td>\n",
       "      <td>0.007665</td>\n",
       "      <td>0.034297</td>\n",
       "      <td>-0.012454</td>\n",
       "      <td>0.025873</td>\n",
       "      <td>0.052733</td>\n",
       "      <td>-0.040490</td>\n",
       "      <td>-0.031351</td>\n",
       "      <td>1.000000</td>\n",
       "      <td>0.024054</td>\n",
       "      <td>0.019604</td>\n",
       "      <td>0.019367</td>\n",
       "      <td>-0.015123</td>\n",
       "      <td>0.033493</td>\n",
       "      <td>-0.000867</td>\n",
       "    </tr>\n",
       "    <tr>\n",
       "      <th>TotalWorkingYears</th>\n",
       "      <td>0.680381</td>\n",
       "      <td>0.004628</td>\n",
       "      <td>0.148280</td>\n",
       "      <td>-0.002693</td>\n",
       "      <td>-0.005533</td>\n",
       "      <td>-0.020185</td>\n",
       "      <td>0.772893</td>\n",
       "      <td>0.237639</td>\n",
       "      <td>-0.020608</td>\n",
       "      <td>0.006744</td>\n",
       "      <td>0.024054</td>\n",
       "      <td>1.000000</td>\n",
       "      <td>0.001008</td>\n",
       "      <td>0.628133</td>\n",
       "      <td>0.460365</td>\n",
       "      <td>0.404858</td>\n",
       "      <td>0.459188</td>\n",
       "    </tr>\n",
       "    <tr>\n",
       "      <th>WorkLifeBalance</th>\n",
       "      <td>-0.021490</td>\n",
       "      <td>-0.026556</td>\n",
       "      <td>0.009819</td>\n",
       "      <td>0.027627</td>\n",
       "      <td>-0.014617</td>\n",
       "      <td>-0.019459</td>\n",
       "      <td>0.030683</td>\n",
       "      <td>-0.008366</td>\n",
       "      <td>-0.003280</td>\n",
       "      <td>0.002572</td>\n",
       "      <td>0.019604</td>\n",
       "      <td>0.001008</td>\n",
       "      <td>1.000000</td>\n",
       "      <td>0.012089</td>\n",
       "      <td>0.049856</td>\n",
       "      <td>0.008941</td>\n",
       "      <td>0.002759</td>\n",
       "    </tr>\n",
       "    <tr>\n",
       "      <th>YearsAtCompany</th>\n",
       "      <td>0.311309</td>\n",
       "      <td>0.009508</td>\n",
       "      <td>0.069114</td>\n",
       "      <td>0.001458</td>\n",
       "      <td>-0.021355</td>\n",
       "      <td>-0.003803</td>\n",
       "      <td>0.514285</td>\n",
       "      <td>-0.118421</td>\n",
       "      <td>-0.035991</td>\n",
       "      <td>0.003435</td>\n",
       "      <td>0.019367</td>\n",
       "      <td>0.628133</td>\n",
       "      <td>0.012089</td>\n",
       "      <td>1.000000</td>\n",
       "      <td>0.758754</td>\n",
       "      <td>0.618409</td>\n",
       "      <td>0.769212</td>\n",
       "    </tr>\n",
       "    <tr>\n",
       "      <th>YearsInCurrentRole</th>\n",
       "      <td>0.212901</td>\n",
       "      <td>0.018845</td>\n",
       "      <td>0.060236</td>\n",
       "      <td>0.018007</td>\n",
       "      <td>0.008717</td>\n",
       "      <td>-0.002305</td>\n",
       "      <td>0.363818</td>\n",
       "      <td>-0.090754</td>\n",
       "      <td>-0.001520</td>\n",
       "      <td>0.034986</td>\n",
       "      <td>-0.015123</td>\n",
       "      <td>0.460365</td>\n",
       "      <td>0.049856</td>\n",
       "      <td>0.758754</td>\n",
       "      <td>1.000000</td>\n",
       "      <td>0.548056</td>\n",
       "      <td>0.714365</td>\n",
       "    </tr>\n",
       "    <tr>\n",
       "      <th>YearsSinceLastPromotion</th>\n",
       "      <td>0.216513</td>\n",
       "      <td>0.010029</td>\n",
       "      <td>0.054254</td>\n",
       "      <td>0.016194</td>\n",
       "      <td>-0.024184</td>\n",
       "      <td>-0.018214</td>\n",
       "      <td>0.344978</td>\n",
       "      <td>-0.036814</td>\n",
       "      <td>-0.022154</td>\n",
       "      <td>0.017896</td>\n",
       "      <td>0.033493</td>\n",
       "      <td>0.404858</td>\n",
       "      <td>0.008941</td>\n",
       "      <td>0.618409</td>\n",
       "      <td>0.548056</td>\n",
       "      <td>1.000000</td>\n",
       "      <td>0.510224</td>\n",
       "    </tr>\n",
       "    <tr>\n",
       "      <th>YearsWithCurrManager</th>\n",
       "      <td>0.202089</td>\n",
       "      <td>0.014406</td>\n",
       "      <td>0.069065</td>\n",
       "      <td>-0.004999</td>\n",
       "      <td>0.025976</td>\n",
       "      <td>-0.027656</td>\n",
       "      <td>0.344079</td>\n",
       "      <td>-0.110319</td>\n",
       "      <td>-0.011985</td>\n",
       "      <td>0.022827</td>\n",
       "      <td>-0.000867</td>\n",
       "      <td>0.459188</td>\n",
       "      <td>0.002759</td>\n",
       "      <td>0.769212</td>\n",
       "      <td>0.714365</td>\n",
       "      <td>0.510224</td>\n",
       "      <td>1.000000</td>\n",
       "    </tr>\n",
       "  </tbody>\n",
       "</table>\n",
       "</div>"
      ],
      "text/plain": [
       "                               Age  DistanceFromHome  Education  \\\n",
       "Age                       1.000000         -0.001686   0.208034   \n",
       "DistanceFromHome         -0.001686          1.000000   0.021042   \n",
       "Education                 0.208034          0.021042   1.000000   \n",
       "EnvironmentSatisfaction   0.010146         -0.016075  -0.027128   \n",
       "JobInvolvement            0.029820          0.008783   0.042438   \n",
       "JobSatisfaction          -0.004892         -0.003669  -0.011296   \n",
       "MonthlyIncome             0.497855         -0.017014   0.094961   \n",
       "NumCompaniesWorked        0.299635         -0.029251   0.126317   \n",
       "PercentSalaryHike         0.003634          0.040235  -0.011111   \n",
       "PerformanceRating         0.001904          0.027110  -0.024539   \n",
       "RelationshipSatisfaction  0.053535          0.006557  -0.009118   \n",
       "TotalWorkingYears         0.680381          0.004628   0.148280   \n",
       "WorkLifeBalance          -0.021490         -0.026556   0.009819   \n",
       "YearsAtCompany            0.311309          0.009508   0.069114   \n",
       "YearsInCurrentRole        0.212901          0.018845   0.060236   \n",
       "YearsSinceLastPromotion   0.216513          0.010029   0.054254   \n",
       "YearsWithCurrManager      0.202089          0.014406   0.069065   \n",
       "\n",
       "                          EnvironmentSatisfaction  JobInvolvement  \\\n",
       "Age                                      0.010146        0.029820   \n",
       "DistanceFromHome                        -0.016075        0.008783   \n",
       "Education                               -0.027128        0.042438   \n",
       "EnvironmentSatisfaction                  1.000000       -0.008278   \n",
       "JobInvolvement                          -0.008278        1.000000   \n",
       "JobSatisfaction                         -0.006784       -0.021476   \n",
       "MonthlyIncome                           -0.006259       -0.015271   \n",
       "NumCompaniesWorked                       0.012594        0.015012   \n",
       "PercentSalaryHike                       -0.031701       -0.017205   \n",
       "PerformanceRating                       -0.029548       -0.029071   \n",
       "RelationshipSatisfaction                 0.007665        0.034297   \n",
       "TotalWorkingYears                       -0.002693       -0.005533   \n",
       "WorkLifeBalance                          0.027627       -0.014617   \n",
       "YearsAtCompany                           0.001458       -0.021355   \n",
       "YearsInCurrentRole                       0.018007        0.008717   \n",
       "YearsSinceLastPromotion                  0.016194       -0.024184   \n",
       "YearsWithCurrManager                    -0.004999        0.025976   \n",
       "\n",
       "                          JobSatisfaction  MonthlyIncome  NumCompaniesWorked  \\\n",
       "Age                             -0.004892       0.497855            0.299635   \n",
       "DistanceFromHome                -0.003669      -0.017014           -0.029251   \n",
       "Education                       -0.011296       0.094961            0.126317   \n",
       "EnvironmentSatisfaction         -0.006784      -0.006259            0.012594   \n",
       "JobInvolvement                  -0.021476      -0.015271            0.015012   \n",
       "JobSatisfaction                  1.000000      -0.007157           -0.055699   \n",
       "MonthlyIncome                   -0.007157       1.000000            0.149515   \n",
       "NumCompaniesWorked              -0.055699       0.149515            1.000000   \n",
       "PercentSalaryHike                0.020002      -0.027269           -0.010238   \n",
       "PerformanceRating                0.002297      -0.017120           -0.014095   \n",
       "RelationshipSatisfaction        -0.012454       0.025873            0.052733   \n",
       "TotalWorkingYears               -0.020185       0.772893            0.237639   \n",
       "WorkLifeBalance                 -0.019459       0.030683           -0.008366   \n",
       "YearsAtCompany                  -0.003803       0.514285           -0.118421   \n",
       "YearsInCurrentRole              -0.002305       0.363818           -0.090754   \n",
       "YearsSinceLastPromotion         -0.018214       0.344978           -0.036814   \n",
       "YearsWithCurrManager            -0.027656       0.344079           -0.110319   \n",
       "\n",
       "                          PercentSalaryHike  PerformanceRating  \\\n",
       "Age                                0.003634           0.001904   \n",
       "DistanceFromHome                   0.040235           0.027110   \n",
       "Education                         -0.011111          -0.024539   \n",
       "EnvironmentSatisfaction           -0.031701          -0.029548   \n",
       "JobInvolvement                    -0.017205          -0.029071   \n",
       "JobSatisfaction                    0.020002           0.002297   \n",
       "MonthlyIncome                     -0.027269          -0.017120   \n",
       "NumCompaniesWorked                -0.010238          -0.014095   \n",
       "PercentSalaryHike                  1.000000           0.773550   \n",
       "PerformanceRating                  0.773550           1.000000   \n",
       "RelationshipSatisfaction          -0.040490          -0.031351   \n",
       "TotalWorkingYears                 -0.020608           0.006744   \n",
       "WorkLifeBalance                   -0.003280           0.002572   \n",
       "YearsAtCompany                    -0.035991           0.003435   \n",
       "YearsInCurrentRole                -0.001520           0.034986   \n",
       "YearsSinceLastPromotion           -0.022154           0.017896   \n",
       "YearsWithCurrManager              -0.011985           0.022827   \n",
       "\n",
       "                          RelationshipSatisfaction  TotalWorkingYears  \\\n",
       "Age                                       0.053535           0.680381   \n",
       "DistanceFromHome                          0.006557           0.004628   \n",
       "Education                                -0.009118           0.148280   \n",
       "EnvironmentSatisfaction                   0.007665          -0.002693   \n",
       "JobInvolvement                            0.034297          -0.005533   \n",
       "JobSatisfaction                          -0.012454          -0.020185   \n",
       "MonthlyIncome                             0.025873           0.772893   \n",
       "NumCompaniesWorked                        0.052733           0.237639   \n",
       "PercentSalaryHike                        -0.040490          -0.020608   \n",
       "PerformanceRating                        -0.031351           0.006744   \n",
       "RelationshipSatisfaction                  1.000000           0.024054   \n",
       "TotalWorkingYears                         0.024054           1.000000   \n",
       "WorkLifeBalance                           0.019604           0.001008   \n",
       "YearsAtCompany                            0.019367           0.628133   \n",
       "YearsInCurrentRole                       -0.015123           0.460365   \n",
       "YearsSinceLastPromotion                   0.033493           0.404858   \n",
       "YearsWithCurrManager                     -0.000867           0.459188   \n",
       "\n",
       "                          WorkLifeBalance  YearsAtCompany  YearsInCurrentRole  \\\n",
       "Age                             -0.021490        0.311309            0.212901   \n",
       "DistanceFromHome                -0.026556        0.009508            0.018845   \n",
       "Education                        0.009819        0.069114            0.060236   \n",
       "EnvironmentSatisfaction          0.027627        0.001458            0.018007   \n",
       "JobInvolvement                  -0.014617       -0.021355            0.008717   \n",
       "JobSatisfaction                 -0.019459       -0.003803           -0.002305   \n",
       "MonthlyIncome                    0.030683        0.514285            0.363818   \n",
       "NumCompaniesWorked              -0.008366       -0.118421           -0.090754   \n",
       "PercentSalaryHike               -0.003280       -0.035991           -0.001520   \n",
       "PerformanceRating                0.002572        0.003435            0.034986   \n",
       "RelationshipSatisfaction         0.019604        0.019367           -0.015123   \n",
       "TotalWorkingYears                0.001008        0.628133            0.460365   \n",
       "WorkLifeBalance                  1.000000        0.012089            0.049856   \n",
       "YearsAtCompany                   0.012089        1.000000            0.758754   \n",
       "YearsInCurrentRole               0.049856        0.758754            1.000000   \n",
       "YearsSinceLastPromotion          0.008941        0.618409            0.548056   \n",
       "YearsWithCurrManager             0.002759        0.769212            0.714365   \n",
       "\n",
       "                          YearsSinceLastPromotion  YearsWithCurrManager  \n",
       "Age                                      0.216513              0.202089  \n",
       "DistanceFromHome                         0.010029              0.014406  \n",
       "Education                                0.054254              0.069065  \n",
       "EnvironmentSatisfaction                  0.016194             -0.004999  \n",
       "JobInvolvement                          -0.024184              0.025976  \n",
       "JobSatisfaction                         -0.018214             -0.027656  \n",
       "MonthlyIncome                            0.344978              0.344079  \n",
       "NumCompaniesWorked                      -0.036814             -0.110319  \n",
       "PercentSalaryHike                       -0.022154             -0.011985  \n",
       "PerformanceRating                        0.017896              0.022827  \n",
       "RelationshipSatisfaction                 0.033493             -0.000867  \n",
       "TotalWorkingYears                        0.404858              0.459188  \n",
       "WorkLifeBalance                          0.008941              0.002759  \n",
       "YearsAtCompany                           0.618409              0.769212  \n",
       "YearsInCurrentRole                       0.548056              0.714365  \n",
       "YearsSinceLastPromotion                  1.000000              0.510224  \n",
       "YearsWithCurrManager                     0.510224              1.000000  "
      ]
     },
     "execution_count": 6,
     "metadata": {},
     "output_type": "execute_result"
    }
   ],
   "source": [
    "corr = df.corr()\n",
    "corr                      #no corr is greater than 0.8"
   ]
  },
  {
   "cell_type": "markdown",
   "id": "84fa1238",
   "metadata": {},
   "source": [
    "# as can be seen, age, monthly income and being single have the highest effect on attrition rate"
   ]
  },
  {
   "cell_type": "code",
   "execution_count": 7,
   "id": "3f06dd0a",
   "metadata": {},
   "outputs": [
    {
     "data": {
      "text/plain": [
       "<AxesSubplot:>"
      ]
     },
     "execution_count": 7,
     "metadata": {},
     "output_type": "execute_result"
    },
    {
     "data": {
      "image/png": "[encoded data removed]",
      "text/plain": [
       "<Figure size 432x288 with 2 Axes>"
      ]
     },
     "metadata": {
      "needs_background": "light"
     },
     "output_type": "display_data"
    }
   ],
   "source": [
    "sns.heatmap(df.isnull(),yticklabels=False,cmap=\"viridis\")"
   ]
  },
  {
   "cell_type": "code",
   "execution_count": 8,
   "id": "566eefde",
   "metadata": {},
   "outputs": [
    {
     "data": {
      "text/plain": [
       "<AxesSubplot:xlabel='Attrition', ylabel='count'>"
      ]
     },
     "execution_count": 8,
     "metadata": {},
     "output_type": "execute_result"
    },
    {
     "data": {
      "image/png": "[encoded data removed]",
      "text/plain": [
       "<Figure size 432x288 with 1 Axes>"
      ]
     },
     "metadata": {
      "needs_background": "light"
     },
     "output_type": "display_data"
    }
   ],
   "source": [
    "sns.countplot(x=\"Attrition\",hue=\"Department\",data=df) "
   ]
  },
  {
   "cell_type": "markdown",
   "id": "b9b5517b",
   "metadata": {},
   "source": [
    "# # so,as can be seen the most attrition rate is in R&D ,followed by sales, and H.R                                                    "
   ]
  },
  {
   "cell_type": "code",
   "execution_count": 9,
   "id": "5ac2da70",
   "metadata": {},
   "outputs": [
    {
     "data": {
      "text/plain": [
       "<AxesSubplot:xlabel='DistanceFromHome', ylabel='count'>"
      ]
     },
     "execution_count": 9,
     "metadata": {},
     "output_type": "execute_result"
    },
    {
     "data": {
      "image/png": "[encoded data removed]",
      "text/plain": [
       "<Figure size 432x288 with 1 Axes>"
      ]
     },
     "metadata": {
      "needs_background": "light"
     },
     "output_type": "display_data"
    }
   ],
   "source": [
    "sns.countplot(x=\"DistanceFromHome\",hue=\"Attrition\",data=df) "
   ]
  },
  {
   "cell_type": "code",
   "execution_count": 10,
   "id": "7c5f39ec",
   "metadata": {},
   "outputs": [
    {
     "data": {
      "text/plain": [
       "<AxesSubplot:xlabel='DistanceFromHome', ylabel='count'>"
      ]
     },
     "execution_count": 10,
     "metadata": {},
     "output_type": "execute_result"
    },
    {
     "data": {
      "image/png": "[encoded data removed]",
      "text/plain": [
       "<Figure size 432x288 with 1 Axes>"
      ]
     },
     "metadata": {
      "needs_background": "light"
     },
     "output_type": "display_data"
    }
   ],
   "source": [
    "sns.countplot(x=\"DistanceFromHome\",hue=\"JobRole\",data=df) "
   ]
  },
  {
   "cell_type": "code",
   "execution_count": 11,
   "id": "e9611e11",
   "metadata": {},
   "outputs": [
    {
     "data": {
      "text/plain": [
       "<AxesSubplot:xlabel='MonthlyIncome', ylabel='count'>"
      ]
     },
     "execution_count": 11,
     "metadata": {},
     "output_type": "execute_result"
    },
    {
     "data": {
      "image/png": "[encoded data removed]",
      "text/plain": [
       "<Figure size 432x288 with 1 Axes>"
      ]
     },
     "metadata": {
      "needs_background": "light"
     },
     "output_type": "display_data"
    }
   ],
   "source": [
    "sns.countplot(x=\"MonthlyIncome\",hue=\"Attrition\",orient = \"h\", data=df) "
   ]
  },
  {
   "cell_type": "code",
   "execution_count": 12,
   "id": "a35ed05a",
   "metadata": {},
   "outputs": [
    {
     "data": {
      "text/plain": [
       "<AxesSubplot:xlabel='MonthlyIncome', ylabel='count'>"
      ]
     },
     "execution_count": 12,
     "metadata": {},
     "output_type": "execute_result"
    },
    {
     "data": {
      "image/png": "[encoded data removed]",
      "text/plain": [
       "<Figure size 432x288 with 1 Axes>"
      ]
     },
     "metadata": {
      "needs_background": "light"
     },
     "output_type": "display_data"
    }
   ],
   "source": [
    "sns.countplot(x=\"MonthlyIncome\",hue=\"Education\",orient = \"h\", data=df) "
   ]
  },
  {
   "cell_type": "code",
   "execution_count": 13,
   "id": "d2da272c",
   "metadata": {},
   "outputs": [
    {
     "data": {
      "text/plain": [
       "<AxesSubplot:xlabel='Attrition', ylabel='count'>"
      ]
     },
     "execution_count": 13,
     "metadata": {},
     "output_type": "execute_result"
    },
    {
     "data": {
      "image/png": "[encoded data removed]",
      "text/plain": [
       "<Figure size 432x288 with 1 Axes>"
      ]
     },
     "metadata": {
      "needs_background": "light"
     },
     "output_type": "display_data"
    }
   ],
   "source": [
    "sns.countplot(x=\"Attrition\",hue=\"BusinessTravel\",data=df)"
   ]
  },
  {
   "cell_type": "code",
   "execution_count": 14,
   "id": "340833c9",
   "metadata": {},
   "outputs": [
    {
     "data": {
      "text/plain": [
       "<AxesSubplot:xlabel='Attrition', ylabel='count'>"
      ]
     },
     "execution_count": 14,
     "metadata": {},
     "output_type": "execute_result"
    },
    {
     "data": {
      "image/png": "[encoded data removed]",
      "text/plain": [
       "<Figure size 432x288 with 1 Axes>"
      ]
     },
     "metadata": {
      "needs_background": "light"
     },
     "output_type": "display_data"
    }
   ],
   "source": [
    "sns.countplot(x=\"Attrition\",hue=\"EducationField\",data=df)"
   ]
  },
  {
   "cell_type": "code",
   "execution_count": 65,
   "id": "e58fba61",
   "metadata": {},
   "outputs": [
    {
     "data": {
      "text/plain": [
       "<AxesSubplot:xlabel='Attrition', ylabel='count'>"
      ]
     },
     "execution_count": 65,
     "metadata": {},
     "output_type": "execute_result"
    },
    {
     "data": {
      "image/png": "[encoded data removed]",
      "text/plain": [
       "<Figure size 432x288 with 1 Axes>"
      ]
     },
     "metadata": {
      "needs_background": "light"
     },
     "output_type": "display_data"
    }
   ],
   "source": [
    "sns.countplot(x=\"Attrition\",hue=\"YearsWithCurrManager\",data=df)"
   ]
  },
  {
   "cell_type": "code",
   "execution_count": 15,
   "id": "c8e9e47f",
   "metadata": {},
   "outputs": [
    {
     "data": {
      "text/plain": [
       "<AxesSubplot:xlabel='Attrition', ylabel='count'>"
      ]
     },
     "execution_count": 15,
     "metadata": {},
     "output_type": "execute_result"
    },
    {
     "data": {
      "image/png": "[encoded data removed]",
      "text/plain": [
       "<Figure size 432x288 with 1 Axes>"
      ]
     },
     "metadata": {
      "needs_background": "light"
     },
     "output_type": "display_data"
    }
   ],
   "source": [
    "sns.countplot(x=\"Attrition\",hue=\"Gender\",data=df)"
   ]
  },
  {
   "cell_type": "code",
   "execution_count": 16,
   "id": "eae53cb4",
   "metadata": {},
   "outputs": [
    {
     "data": {
      "text/plain": [
       "<AxesSubplot:xlabel='Attrition', ylabel='count'>"
      ]
     },
     "execution_count": 16,
     "metadata": {},
     "output_type": "execute_result"
    },
    {
     "data": {
      "image/png": "[encoded data removed]",
      "text/plain": [
       "<Figure size 432x288 with 1 Axes>"
      ]
     },
     "metadata": {
      "needs_background": "light"
     },
     "output_type": "display_data"
    }
   ],
   "source": [
    "sns.countplot(x=\"Attrition\",hue=\"MaritalStatus\",data=df)"
   ]
  },
  {
   "cell_type": "code",
   "execution_count": 17,
   "id": "996cd6e6",
   "metadata": {},
   "outputs": [
    {
     "data": {
      "text/plain": [
       "<AxesSubplot:xlabel='Attrition', ylabel='count'>"
      ]
     },
     "execution_count": 17,
     "metadata": {},
     "output_type": "execute_result"
    },
    {
     "data": {
      "image/png": "[encoded data removed]",
      "text/plain": [
       "<Figure size 432x288 with 1 Axes>"
      ]
     },
     "metadata": {
      "needs_background": "light"
     },
     "output_type": "display_data"
    }
   ],
   "source": [
    "sns.countplot(x=\"Attrition\",hue=\"RelationshipSatisfaction\",data=df)"
   ]
  },
  {
   "cell_type": "code",
   "execution_count": 18,
   "id": "0d32c0a7",
   "metadata": {},
   "outputs": [
    {
     "data": {
      "text/plain": [
       "<AxesSubplot:xlabel='Attrition', ylabel='count'>"
      ]
     },
     "execution_count": 18,
     "metadata": {},
     "output_type": "execute_result"
    },
    {
     "data": {
      "image/png": "[encoded data removed]",
      "text/plain": [
       "<Figure size 432x288 with 1 Axes>"
      ]
     },
     "metadata": {
      "needs_background": "light"
     },
     "output_type": "display_data"
    }
   ],
   "source": [
    "sns.countplot(x=\"Attrition\",hue=\"JobSatisfaction\",data=df)"
   ]
  },
  {
   "cell_type": "code",
   "execution_count": 63,
   "id": "3a5d5d6d",
   "metadata": {},
   "outputs": [
    {
     "data": {
      "text/plain": [
       "<AxesSubplot:xlabel='Attrition', ylabel='count'>"
      ]
     },
     "execution_count": 63,
     "metadata": {},
     "output_type": "execute_result"
    },
    {
     "data": {
      "image/png": "[encoded data removed]",
      "text/plain": [
       "<Figure size 432x288 with 1 Axes>"
      ]
     },
     "metadata": {
      "needs_background": "light"
     },
     "output_type": "display_data"
    }
   ],
   "source": [
    "sns.countplot(x=\"Attrition\",hue=\"Education\",data=df)"
   ]
  },
  {
   "cell_type": "code",
   "execution_count": 19,
   "id": "a1553210",
   "metadata": {},
   "outputs": [
    {
     "data": {
      "text/plain": [
       "<AxesSubplot:xlabel='Attrition', ylabel='count'>"
      ]
     },
     "execution_count": 19,
     "metadata": {},
     "output_type": "execute_result"
    },
    {
     "data": {
      "image/png": "[encoded data removed]",
      "text/plain": [
       "<Figure size 432x288 with 1 Axes>"
      ]
     },
     "metadata": {
      "needs_background": "light"
     },
     "output_type": "display_data"
    }
   ],
   "source": [
    "sns.countplot(x=\"Attrition\",hue=\"OverTime\",data=df)"
   ]
  },
  {
   "cell_type": "code",
   "execution_count": 20,
   "id": "d0e0a236",
   "metadata": {
    "collapsed": true
   },
   "outputs": [
    {
     "name": "stdout",
     "output_type": "stream",
     "text": [
      "<class 'pandas.core.frame.DataFrame'>\n",
      "RangeIndex: 1470 entries, 0 to 1469\n",
      "Data columns (total 24 columns):\n",
      " #   Column                    Non-Null Count  Dtype \n",
      "---  ------                    --------------  ----- \n",
      " 0   Attrition                 1470 non-null   object\n",
      " 1   Age                       1470 non-null   int64 \n",
      " 2   BusinessTravel            1470 non-null   object\n",
      " 3   Department                1470 non-null   object\n",
      " 4   DistanceFromHome          1470 non-null   int64 \n",
      " 5   Education                 1470 non-null   int64 \n",
      " 6   EducationField            1470 non-null   object\n",
      " 7   EnvironmentSatisfaction   1470 non-null   int64 \n",
      " 8   Gender                    1470 non-null   object\n",
      " 9   JobInvolvement            1470 non-null   int64 \n",
      " 10  JobSatisfaction           1470 non-null   int64 \n",
      " 11  MaritalStatus             1470 non-null   object\n",
      " 12  MonthlyIncome             1470 non-null   int64 \n",
      " 13  NumCompaniesWorked        1470 non-null   int64 \n",
      " 14  OverTime                  1470 non-null   object\n",
      " 15  PercentSalaryHike         1470 non-null   int64 \n",
      " 16  PerformanceRating         1470 non-null   int64 \n",
      " 17  RelationshipSatisfaction  1470 non-null   int64 \n",
      " 18  TotalWorkingYears         1470 non-null   int64 \n",
      " 19  WorkLifeBalance           1470 non-null   int64 \n",
      " 20  YearsAtCompany            1470 non-null   int64 \n",
      " 21  YearsInCurrentRole        1470 non-null   int64 \n",
      " 22  YearsSinceLastPromotion   1470 non-null   int64 \n",
      " 23  YearsWithCurrManager      1470 non-null   int64 \n",
      "dtypes: int64(17), object(7)\n",
      "memory usage: 275.8+ KB\n"
     ]
    }
   ],
   "source": [
    "df = df.drop('JobRole',axis = 1)\n",
    "df.info()"
   ]
  },
  {
   "cell_type": "markdown",
   "id": "f77242e9",
   "metadata": {},
   "source": [
    "## creating dummy variables to convert categorical datatypes to numerical\n",
    "## and adding them to the list of columns"
   ]
  },
  {
   "cell_type": "code",
   "execution_count": 21,
   "id": "a52f5055",
   "metadata": {
    "collapsed": true
   },
   "outputs": [
    {
     "data": {
      "text/html": [
       "<div>\n",
       "<style scoped>\n",
       "    .dataframe tbody tr th:only-of-type {\n",
       "        vertical-align: middle;\n",
       "    }\n",
       "\n",
       "    .dataframe tbody tr th {\n",
       "        vertical-align: top;\n",
       "    }\n",
       "\n",
       "    .dataframe thead th {\n",
       "        text-align: right;\n",
       "    }\n",
       "</style>\n",
       "<table border=\"1\" class=\"dataframe\">\n",
       "  <thead>\n",
       "    <tr style=\"text-align: right;\">\n",
       "      <th></th>\n",
       "      <th>['attrition']_Yes</th>\n",
       "    </tr>\n",
       "  </thead>\n",
       "  <tbody>\n",
       "    <tr>\n",
       "      <th>0</th>\n",
       "      <td>1</td>\n",
       "    </tr>\n",
       "    <tr>\n",
       "      <th>1</th>\n",
       "      <td>0</td>\n",
       "    </tr>\n",
       "    <tr>\n",
       "      <th>2</th>\n",
       "      <td>1</td>\n",
       "    </tr>\n",
       "    <tr>\n",
       "      <th>3</th>\n",
       "      <td>0</td>\n",
       "    </tr>\n",
       "    <tr>\n",
       "      <th>4</th>\n",
       "      <td>0</td>\n",
       "    </tr>\n",
       "  </tbody>\n",
       "</table>\n",
       "</div>"
      ],
      "text/plain": [
       "   ['attrition']_Yes\n",
       "0                  1\n",
       "1                  0\n",
       "2                  1\n",
       "3                  0\n",
       "4                  0"
      ]
     },
     "execution_count": 21,
     "metadata": {},
     "output_type": "execute_result"
    }
   ],
   "source": [
    "attrition =pd.get_dummies(df[\"Attrition\"],prefix=['attrition'],drop_first=True)\n",
    "attrition.head()"
   ]
  },
  {
   "cell_type": "code",
   "execution_count": 22,
   "id": "2f3bb55b",
   "metadata": {
    "collapsed": true
   },
   "outputs": [
    {
     "data": {
      "text/html": [
       "<div>\n",
       "<style scoped>\n",
       "    .dataframe tbody tr th:only-of-type {\n",
       "        vertical-align: middle;\n",
       "    }\n",
       "\n",
       "    .dataframe tbody tr th {\n",
       "        vertical-align: top;\n",
       "    }\n",
       "\n",
       "    .dataframe thead th {\n",
       "        text-align: right;\n",
       "    }\n",
       "</style>\n",
       "<table border=\"1\" class=\"dataframe\">\n",
       "  <thead>\n",
       "    <tr style=\"text-align: right;\">\n",
       "      <th></th>\n",
       "      <th>Travel_Frequently</th>\n",
       "      <th>Travel_Rarely</th>\n",
       "    </tr>\n",
       "  </thead>\n",
       "  <tbody>\n",
       "    <tr>\n",
       "      <th>0</th>\n",
       "      <td>0</td>\n",
       "      <td>1</td>\n",
       "    </tr>\n",
       "    <tr>\n",
       "      <th>1</th>\n",
       "      <td>1</td>\n",
       "      <td>0</td>\n",
       "    </tr>\n",
       "    <tr>\n",
       "      <th>2</th>\n",
       "      <td>0</td>\n",
       "      <td>1</td>\n",
       "    </tr>\n",
       "    <tr>\n",
       "      <th>3</th>\n",
       "      <td>1</td>\n",
       "      <td>0</td>\n",
       "    </tr>\n",
       "    <tr>\n",
       "      <th>4</th>\n",
       "      <td>0</td>\n",
       "      <td>1</td>\n",
       "    </tr>\n",
       "  </tbody>\n",
       "</table>\n",
       "</div>"
      ],
      "text/plain": [
       "   Travel_Frequently  Travel_Rarely\n",
       "0                  0              1\n",
       "1                  1              0\n",
       "2                  0              1\n",
       "3                  1              0\n",
       "4                  0              1"
      ]
     },
     "execution_count": 22,
     "metadata": {},
     "output_type": "execute_result"
    }
   ],
   "source": [
    "businessTravel= pd.get_dummies(df[\"BusinessTravel\"],drop_first=True)\n",
    "businessTravel.head()  #100 for non-travel"
   ]
  },
  {
   "cell_type": "code",
   "execution_count": 23,
   "id": "01a2fd7d",
   "metadata": {
    "collapsed": true
   },
   "outputs": [
    {
     "data": {
      "text/html": [
       "<div>\n",
       "<style scoped>\n",
       "    .dataframe tbody tr th:only-of-type {\n",
       "        vertical-align: middle;\n",
       "    }\n",
       "\n",
       "    .dataframe tbody tr th {\n",
       "        vertical-align: top;\n",
       "    }\n",
       "\n",
       "    .dataframe thead th {\n",
       "        text-align: right;\n",
       "    }\n",
       "</style>\n",
       "<table border=\"1\" class=\"dataframe\">\n",
       "  <thead>\n",
       "    <tr style=\"text-align: right;\">\n",
       "      <th></th>\n",
       "      <th>Research &amp; Development</th>\n",
       "      <th>Sales</th>\n",
       "    </tr>\n",
       "  </thead>\n",
       "  <tbody>\n",
       "    <tr>\n",
       "      <th>0</th>\n",
       "      <td>0</td>\n",
       "      <td>1</td>\n",
       "    </tr>\n",
       "    <tr>\n",
       "      <th>1</th>\n",
       "      <td>1</td>\n",
       "      <td>0</td>\n",
       "    </tr>\n",
       "    <tr>\n",
       "      <th>2</th>\n",
       "      <td>1</td>\n",
       "      <td>0</td>\n",
       "    </tr>\n",
       "    <tr>\n",
       "      <th>3</th>\n",
       "      <td>1</td>\n",
       "      <td>0</td>\n",
       "    </tr>\n",
       "    <tr>\n",
       "      <th>4</th>\n",
       "      <td>1</td>\n",
       "      <td>0</td>\n",
       "    </tr>\n",
       "  </tbody>\n",
       "</table>\n",
       "</div>"
      ],
      "text/plain": [
       "   Research & Development  Sales\n",
       "0                       0      1\n",
       "1                       1      0\n",
       "2                       1      0\n",
       "3                       1      0\n",
       "4                       1      0"
      ]
     },
     "execution_count": 23,
     "metadata": {},
     "output_type": "execute_result"
    }
   ],
   "source": [
    "department= pd.get_dummies(df[\"Department\"],drop_first=True)\n",
    "department.head()  #100 for H.R"
   ]
  },
  {
   "cell_type": "code",
   "execution_count": 24,
   "id": "2280c739",
   "metadata": {
    "collapsed": true
   },
   "outputs": [
    {
     "data": {
      "text/html": [
       "<div>\n",
       "<style scoped>\n",
       "    .dataframe tbody tr th:only-of-type {\n",
       "        vertical-align: middle;\n",
       "    }\n",
       "\n",
       "    .dataframe tbody tr th {\n",
       "        vertical-align: top;\n",
       "    }\n",
       "\n",
       "    .dataframe thead th {\n",
       "        text-align: right;\n",
       "    }\n",
       "</style>\n",
       "<table border=\"1\" class=\"dataframe\">\n",
       "  <thead>\n",
       "    <tr style=\"text-align: right;\">\n",
       "      <th></th>\n",
       "      <th>Life Sciences</th>\n",
       "      <th>Marketing</th>\n",
       "      <th>Medical</th>\n",
       "      <th>Other</th>\n",
       "      <th>Technical Degree</th>\n",
       "    </tr>\n",
       "  </thead>\n",
       "  <tbody>\n",
       "    <tr>\n",
       "      <th>0</th>\n",
       "      <td>1</td>\n",
       "      <td>0</td>\n",
       "      <td>0</td>\n",
       "      <td>0</td>\n",
       "      <td>0</td>\n",
       "    </tr>\n",
       "    <tr>\n",
       "      <th>1</th>\n",
       "      <td>1</td>\n",
       "      <td>0</td>\n",
       "      <td>0</td>\n",
       "      <td>0</td>\n",
       "      <td>0</td>\n",
       "    </tr>\n",
       "    <tr>\n",
       "      <th>2</th>\n",
       "      <td>0</td>\n",
       "      <td>0</td>\n",
       "      <td>0</td>\n",
       "      <td>1</td>\n",
       "      <td>0</td>\n",
       "    </tr>\n",
       "    <tr>\n",
       "      <th>3</th>\n",
       "      <td>1</td>\n",
       "      <td>0</td>\n",
       "      <td>0</td>\n",
       "      <td>0</td>\n",
       "      <td>0</td>\n",
       "    </tr>\n",
       "    <tr>\n",
       "      <th>4</th>\n",
       "      <td>0</td>\n",
       "      <td>0</td>\n",
       "      <td>1</td>\n",
       "      <td>0</td>\n",
       "      <td>0</td>\n",
       "    </tr>\n",
       "  </tbody>\n",
       "</table>\n",
       "</div>"
      ],
      "text/plain": [
       "   Life Sciences  Marketing  Medical  Other  Technical Degree\n",
       "0              1          0        0      0                 0\n",
       "1              1          0        0      0                 0\n",
       "2              0          0        0      1                 0\n",
       "3              1          0        0      0                 0\n",
       "4              0          0        1      0                 0"
      ]
     },
     "execution_count": 24,
     "metadata": {},
     "output_type": "execute_result"
    }
   ],
   "source": [
    "educationField = pd.get_dummies(df[\"EducationField\"],drop_first=True)\n",
    "educationField.head()  #00000 for H.R"
   ]
  },
  {
   "cell_type": "code",
   "execution_count": 25,
   "id": "d62b065b",
   "metadata": {
    "collapsed": true
   },
   "outputs": [
    {
     "data": {
      "text/html": [
       "<div>\n",
       "<style scoped>\n",
       "    .dataframe tbody tr th:only-of-type {\n",
       "        vertical-align: middle;\n",
       "    }\n",
       "\n",
       "    .dataframe tbody tr th {\n",
       "        vertical-align: top;\n",
       "    }\n",
       "\n",
       "    .dataframe thead th {\n",
       "        text-align: right;\n",
       "    }\n",
       "</style>\n",
       "<table border=\"1\" class=\"dataframe\">\n",
       "  <thead>\n",
       "    <tr style=\"text-align: right;\">\n",
       "      <th></th>\n",
       "      <th>Male</th>\n",
       "    </tr>\n",
       "  </thead>\n",
       "  <tbody>\n",
       "    <tr>\n",
       "      <th>0</th>\n",
       "      <td>0</td>\n",
       "    </tr>\n",
       "    <tr>\n",
       "      <th>1</th>\n",
       "      <td>1</td>\n",
       "    </tr>\n",
       "    <tr>\n",
       "      <th>2</th>\n",
       "      <td>1</td>\n",
       "    </tr>\n",
       "    <tr>\n",
       "      <th>3</th>\n",
       "      <td>0</td>\n",
       "    </tr>\n",
       "    <tr>\n",
       "      <th>4</th>\n",
       "      <td>1</td>\n",
       "    </tr>\n",
       "  </tbody>\n",
       "</table>\n",
       "</div>"
      ],
      "text/plain": [
       "   Male\n",
       "0     0\n",
       "1     1\n",
       "2     1\n",
       "3     0\n",
       "4     1"
      ]
     },
     "execution_count": 25,
     "metadata": {},
     "output_type": "execute_result"
    }
   ],
   "source": [
    "gender = pd.get_dummies(df[\"Gender\"],drop_first=True)\n",
    "gender.head()  "
   ]
  },
  {
   "cell_type": "code",
   "execution_count": 26,
   "id": "baf8e8e0",
   "metadata": {
    "collapsed": true
   },
   "outputs": [
    {
     "data": {
      "text/html": [
       "<div>\n",
       "<style scoped>\n",
       "    .dataframe tbody tr th:only-of-type {\n",
       "        vertical-align: middle;\n",
       "    }\n",
       "\n",
       "    .dataframe tbody tr th {\n",
       "        vertical-align: top;\n",
       "    }\n",
       "\n",
       "    .dataframe thead th {\n",
       "        text-align: right;\n",
       "    }\n",
       "</style>\n",
       "<table border=\"1\" class=\"dataframe\">\n",
       "  <thead>\n",
       "    <tr style=\"text-align: right;\">\n",
       "      <th></th>\n",
       "      <th>Married</th>\n",
       "      <th>Single</th>\n",
       "    </tr>\n",
       "  </thead>\n",
       "  <tbody>\n",
       "    <tr>\n",
       "      <th>0</th>\n",
       "      <td>0</td>\n",
       "      <td>1</td>\n",
       "    </tr>\n",
       "    <tr>\n",
       "      <th>1</th>\n",
       "      <td>1</td>\n",
       "      <td>0</td>\n",
       "    </tr>\n",
       "    <tr>\n",
       "      <th>2</th>\n",
       "      <td>0</td>\n",
       "      <td>1</td>\n",
       "    </tr>\n",
       "    <tr>\n",
       "      <th>3</th>\n",
       "      <td>1</td>\n",
       "      <td>0</td>\n",
       "    </tr>\n",
       "    <tr>\n",
       "      <th>4</th>\n",
       "      <td>1</td>\n",
       "      <td>0</td>\n",
       "    </tr>\n",
       "  </tbody>\n",
       "</table>\n",
       "</div>"
      ],
      "text/plain": [
       "   Married  Single\n",
       "0        0       1\n",
       "1        1       0\n",
       "2        0       1\n",
       "3        1       0\n",
       "4        1       0"
      ]
     },
     "execution_count": 26,
     "metadata": {},
     "output_type": "execute_result"
    }
   ],
   "source": [
    "maritalStatus = pd.get_dummies(df[\"MaritalStatus\"],drop_first=True)\n",
    "maritalStatus.head()  #001 for divorced"
   ]
  },
  {
   "cell_type": "code",
   "execution_count": 27,
   "id": "ff4e64e7",
   "metadata": {
    "collapsed": true
   },
   "outputs": [
    {
     "data": {
      "text/html": [
       "<div>\n",
       "<style scoped>\n",
       "    .dataframe tbody tr th:only-of-type {\n",
       "        vertical-align: middle;\n",
       "    }\n",
       "\n",
       "    .dataframe tbody tr th {\n",
       "        vertical-align: top;\n",
       "    }\n",
       "\n",
       "    .dataframe thead th {\n",
       "        text-align: right;\n",
       "    }\n",
       "</style>\n",
       "<table border=\"1\" class=\"dataframe\">\n",
       "  <thead>\n",
       "    <tr style=\"text-align: right;\">\n",
       "      <th></th>\n",
       "      <th>['overtime']_Yes</th>\n",
       "    </tr>\n",
       "  </thead>\n",
       "  <tbody>\n",
       "    <tr>\n",
       "      <th>0</th>\n",
       "      <td>1</td>\n",
       "    </tr>\n",
       "    <tr>\n",
       "      <th>1</th>\n",
       "      <td>0</td>\n",
       "    </tr>\n",
       "    <tr>\n",
       "      <th>2</th>\n",
       "      <td>1</td>\n",
       "    </tr>\n",
       "    <tr>\n",
       "      <th>3</th>\n",
       "      <td>1</td>\n",
       "    </tr>\n",
       "    <tr>\n",
       "      <th>4</th>\n",
       "      <td>0</td>\n",
       "    </tr>\n",
       "  </tbody>\n",
       "</table>\n",
       "</div>"
      ],
      "text/plain": [
       "   ['overtime']_Yes\n",
       "0                 1\n",
       "1                 0\n",
       "2                 1\n",
       "3                 1\n",
       "4                 0"
      ]
     },
     "execution_count": 27,
     "metadata": {},
     "output_type": "execute_result"
    }
   ],
   "source": [
    "overTime = pd.get_dummies(df[\"OverTime\"],prefix=['overtime'],drop_first=True)\n",
    "overTime.head() "
   ]
  },
  {
   "cell_type": "code",
   "execution_count": 28,
   "id": "3d2379ad",
   "metadata": {
    "collapsed": true
   },
   "outputs": [
    {
     "data": {
      "text/html": [
       "<div>\n",
       "<style scoped>\n",
       "    .dataframe tbody tr th:only-of-type {\n",
       "        vertical-align: middle;\n",
       "    }\n",
       "\n",
       "    .dataframe tbody tr th {\n",
       "        vertical-align: top;\n",
       "    }\n",
       "\n",
       "    .dataframe thead th {\n",
       "        text-align: right;\n",
       "    }\n",
       "</style>\n",
       "<table border=\"1\" class=\"dataframe\">\n",
       "  <thead>\n",
       "    <tr style=\"text-align: right;\">\n",
       "      <th></th>\n",
       "      <th>Attrition</th>\n",
       "      <th>Age</th>\n",
       "      <th>BusinessTravel</th>\n",
       "      <th>Department</th>\n",
       "      <th>DistanceFromHome</th>\n",
       "      <th>Education</th>\n",
       "      <th>EducationField</th>\n",
       "      <th>EnvironmentSatisfaction</th>\n",
       "      <th>Gender</th>\n",
       "      <th>JobInvolvement</th>\n",
       "      <th>...</th>\n",
       "      <th>Married</th>\n",
       "      <th>Single</th>\n",
       "      <th>Male</th>\n",
       "      <th>Life Sciences</th>\n",
       "      <th>Marketing</th>\n",
       "      <th>Medical</th>\n",
       "      <th>Other</th>\n",
       "      <th>Technical Degree</th>\n",
       "      <th>Research &amp; Development</th>\n",
       "      <th>Sales</th>\n",
       "    </tr>\n",
       "  </thead>\n",
       "  <tbody>\n",
       "    <tr>\n",
       "      <th>0</th>\n",
       "      <td>Yes</td>\n",
       "      <td>41</td>\n",
       "      <td>Travel_Rarely</td>\n",
       "      <td>Sales</td>\n",
       "      <td>1</td>\n",
       "      <td>2</td>\n",
       "      <td>Life Sciences</td>\n",
       "      <td>2</td>\n",
       "      <td>Female</td>\n",
       "      <td>3</td>\n",
       "      <td>...</td>\n",
       "      <td>0</td>\n",
       "      <td>1</td>\n",
       "      <td>0</td>\n",
       "      <td>1</td>\n",
       "      <td>0</td>\n",
       "      <td>0</td>\n",
       "      <td>0</td>\n",
       "      <td>0</td>\n",
       "      <td>0</td>\n",
       "      <td>1</td>\n",
       "    </tr>\n",
       "    <tr>\n",
       "      <th>1</th>\n",
       "      <td>No</td>\n",
       "      <td>49</td>\n",
       "      <td>Travel_Frequently</td>\n",
       "      <td>Research &amp; Development</td>\n",
       "      <td>8</td>\n",
       "      <td>1</td>\n",
       "      <td>Life Sciences</td>\n",
       "      <td>3</td>\n",
       "      <td>Male</td>\n",
       "      <td>2</td>\n",
       "      <td>...</td>\n",
       "      <td>1</td>\n",
       "      <td>0</td>\n",
       "      <td>1</td>\n",
       "      <td>1</td>\n",
       "      <td>0</td>\n",
       "      <td>0</td>\n",
       "      <td>0</td>\n",
       "      <td>0</td>\n",
       "      <td>1</td>\n",
       "      <td>0</td>\n",
       "    </tr>\n",
       "    <tr>\n",
       "      <th>2</th>\n",
       "      <td>Yes</td>\n",
       "      <td>37</td>\n",
       "      <td>Travel_Rarely</td>\n",
       "      <td>Research &amp; Development</td>\n",
       "      <td>2</td>\n",
       "      <td>2</td>\n",
       "      <td>Other</td>\n",
       "      <td>4</td>\n",
       "      <td>Male</td>\n",
       "      <td>2</td>\n",
       "      <td>...</td>\n",
       "      <td>0</td>\n",
       "      <td>1</td>\n",
       "      <td>1</td>\n",
       "      <td>0</td>\n",
       "      <td>0</td>\n",
       "      <td>0</td>\n",
       "      <td>1</td>\n",
       "      <td>0</td>\n",
       "      <td>1</td>\n",
       "      <td>0</td>\n",
       "    </tr>\n",
       "    <tr>\n",
       "      <th>3</th>\n",
       "      <td>No</td>\n",
       "      <td>33</td>\n",
       "      <td>Travel_Frequently</td>\n",
       "      <td>Research &amp; Development</td>\n",
       "      <td>3</td>\n",
       "      <td>4</td>\n",
       "      <td>Life Sciences</td>\n",
       "      <td>4</td>\n",
       "      <td>Female</td>\n",
       "      <td>3</td>\n",
       "      <td>...</td>\n",
       "      <td>1</td>\n",
       "      <td>0</td>\n",
       "      <td>0</td>\n",
       "      <td>1</td>\n",
       "      <td>0</td>\n",
       "      <td>0</td>\n",
       "      <td>0</td>\n",
       "      <td>0</td>\n",
       "      <td>1</td>\n",
       "      <td>0</td>\n",
       "    </tr>\n",
       "    <tr>\n",
       "      <th>4</th>\n",
       "      <td>No</td>\n",
       "      <td>27</td>\n",
       "      <td>Travel_Rarely</td>\n",
       "      <td>Research &amp; Development</td>\n",
       "      <td>2</td>\n",
       "      <td>1</td>\n",
       "      <td>Medical</td>\n",
       "      <td>1</td>\n",
       "      <td>Male</td>\n",
       "      <td>3</td>\n",
       "      <td>...</td>\n",
       "      <td>1</td>\n",
       "      <td>0</td>\n",
       "      <td>1</td>\n",
       "      <td>0</td>\n",
       "      <td>0</td>\n",
       "      <td>1</td>\n",
       "      <td>0</td>\n",
       "      <td>0</td>\n",
       "      <td>1</td>\n",
       "      <td>0</td>\n",
       "    </tr>\n",
       "  </tbody>\n",
       "</table>\n",
       "<p>5 rows × 38 columns</p>\n",
       "</div>"
      ],
      "text/plain": [
       "  Attrition  Age     BusinessTravel              Department  DistanceFromHome  \\\n",
       "0       Yes   41      Travel_Rarely                   Sales                 1   \n",
       "1        No   49  Travel_Frequently  Research & Development                 8   \n",
       "2       Yes   37      Travel_Rarely  Research & Development                 2   \n",
       "3        No   33  Travel_Frequently  Research & Development                 3   \n",
       "4        No   27      Travel_Rarely  Research & Development                 2   \n",
       "\n",
       "   Education EducationField  EnvironmentSatisfaction  Gender  JobInvolvement  \\\n",
       "0          2  Life Sciences                        2  Female               3   \n",
       "1          1  Life Sciences                        3    Male               2   \n",
       "2          2          Other                        4    Male               2   \n",
       "3          4  Life Sciences                        4  Female               3   \n",
       "4          1        Medical                        1    Male               3   \n",
       "\n",
       "   ...  Married Single  Male  Life Sciences Marketing  Medical  Other  \\\n",
       "0  ...        0      1     0              1         0        0      0   \n",
       "1  ...        1      0     1              1         0        0      0   \n",
       "2  ...        0      1     1              0         0        0      1   \n",
       "3  ...        1      0     0              1         0        0      0   \n",
       "4  ...        1      0     1              0         0        1      0   \n",
       "\n",
       "   Technical Degree  Research & Development  Sales  \n",
       "0                 0                       0      1  \n",
       "1                 0                       1      0  \n",
       "2                 0                       1      0  \n",
       "3                 0                       1      0  \n",
       "4                 0                       1      0  \n",
       "\n",
       "[5 rows x 38 columns]"
      ]
     },
     "execution_count": 28,
     "metadata": {},
     "output_type": "execute_result"
    }
   ],
   "source": [
    "df=pd.concat([df,attrition,businessTravel,overTime,maritalStatus,gender,educationField,department],axis=1)\n",
    "df.head()"
   ]
  },
  {
   "cell_type": "code",
   "execution_count": 29,
   "id": "6f9f3bd2",
   "metadata": {
    "collapsed": true
   },
   "outputs": [
    {
     "data": {
      "text/html": [
       "<div>\n",
       "<style scoped>\n",
       "    .dataframe tbody tr th:only-of-type {\n",
       "        vertical-align: middle;\n",
       "    }\n",
       "\n",
       "    .dataframe tbody tr th {\n",
       "        vertical-align: top;\n",
       "    }\n",
       "\n",
       "    .dataframe thead th {\n",
       "        text-align: right;\n",
       "    }\n",
       "</style>\n",
       "<table border=\"1\" class=\"dataframe\">\n",
       "  <thead>\n",
       "    <tr style=\"text-align: right;\">\n",
       "      <th></th>\n",
       "      <th>Age</th>\n",
       "      <th>DistanceFromHome</th>\n",
       "      <th>Education</th>\n",
       "      <th>EnvironmentSatisfaction</th>\n",
       "      <th>JobInvolvement</th>\n",
       "      <th>JobSatisfaction</th>\n",
       "      <th>MonthlyIncome</th>\n",
       "      <th>NumCompaniesWorked</th>\n",
       "      <th>PercentSalaryHike</th>\n",
       "      <th>PerformanceRating</th>\n",
       "      <th>...</th>\n",
       "      <th>Married</th>\n",
       "      <th>Single</th>\n",
       "      <th>Male</th>\n",
       "      <th>Life Sciences</th>\n",
       "      <th>Marketing</th>\n",
       "      <th>Medical</th>\n",
       "      <th>Other</th>\n",
       "      <th>Technical Degree</th>\n",
       "      <th>Research &amp; Development</th>\n",
       "      <th>Sales</th>\n",
       "    </tr>\n",
       "  </thead>\n",
       "  <tbody>\n",
       "    <tr>\n",
       "      <th>0</th>\n",
       "      <td>41</td>\n",
       "      <td>1</td>\n",
       "      <td>2</td>\n",
       "      <td>2</td>\n",
       "      <td>3</td>\n",
       "      <td>4</td>\n",
       "      <td>5993</td>\n",
       "      <td>8</td>\n",
       "      <td>11</td>\n",
       "      <td>3</td>\n",
       "      <td>...</td>\n",
       "      <td>0</td>\n",
       "      <td>1</td>\n",
       "      <td>0</td>\n",
       "      <td>1</td>\n",
       "      <td>0</td>\n",
       "      <td>0</td>\n",
       "      <td>0</td>\n",
       "      <td>0</td>\n",
       "      <td>0</td>\n",
       "      <td>1</td>\n",
       "    </tr>\n",
       "    <tr>\n",
       "      <th>1</th>\n",
       "      <td>49</td>\n",
       "      <td>8</td>\n",
       "      <td>1</td>\n",
       "      <td>3</td>\n",
       "      <td>2</td>\n",
       "      <td>2</td>\n",
       "      <td>5130</td>\n",
       "      <td>1</td>\n",
       "      <td>23</td>\n",
       "      <td>4</td>\n",
       "      <td>...</td>\n",
       "      <td>1</td>\n",
       "      <td>0</td>\n",
       "      <td>1</td>\n",
       "      <td>1</td>\n",
       "      <td>0</td>\n",
       "      <td>0</td>\n",
       "      <td>0</td>\n",
       "      <td>0</td>\n",
       "      <td>1</td>\n",
       "      <td>0</td>\n",
       "    </tr>\n",
       "    <tr>\n",
       "      <th>2</th>\n",
       "      <td>37</td>\n",
       "      <td>2</td>\n",
       "      <td>2</td>\n",
       "      <td>4</td>\n",
       "      <td>2</td>\n",
       "      <td>3</td>\n",
       "      <td>2090</td>\n",
       "      <td>6</td>\n",
       "      <td>15</td>\n",
       "      <td>3</td>\n",
       "      <td>...</td>\n",
       "      <td>0</td>\n",
       "      <td>1</td>\n",
       "      <td>1</td>\n",
       "      <td>0</td>\n",
       "      <td>0</td>\n",
       "      <td>0</td>\n",
       "      <td>1</td>\n",
       "      <td>0</td>\n",
       "      <td>1</td>\n",
       "      <td>0</td>\n",
       "    </tr>\n",
       "    <tr>\n",
       "      <th>3</th>\n",
       "      <td>33</td>\n",
       "      <td>3</td>\n",
       "      <td>4</td>\n",
       "      <td>4</td>\n",
       "      <td>3</td>\n",
       "      <td>3</td>\n",
       "      <td>2909</td>\n",
       "      <td>1</td>\n",
       "      <td>11</td>\n",
       "      <td>3</td>\n",
       "      <td>...</td>\n",
       "      <td>1</td>\n",
       "      <td>0</td>\n",
       "      <td>0</td>\n",
       "      <td>1</td>\n",
       "      <td>0</td>\n",
       "      <td>0</td>\n",
       "      <td>0</td>\n",
       "      <td>0</td>\n",
       "      <td>1</td>\n",
       "      <td>0</td>\n",
       "    </tr>\n",
       "    <tr>\n",
       "      <th>4</th>\n",
       "      <td>27</td>\n",
       "      <td>2</td>\n",
       "      <td>1</td>\n",
       "      <td>1</td>\n",
       "      <td>3</td>\n",
       "      <td>2</td>\n",
       "      <td>3468</td>\n",
       "      <td>9</td>\n",
       "      <td>12</td>\n",
       "      <td>3</td>\n",
       "      <td>...</td>\n",
       "      <td>1</td>\n",
       "      <td>0</td>\n",
       "      <td>1</td>\n",
       "      <td>0</td>\n",
       "      <td>0</td>\n",
       "      <td>1</td>\n",
       "      <td>0</td>\n",
       "      <td>0</td>\n",
       "      <td>1</td>\n",
       "      <td>0</td>\n",
       "    </tr>\n",
       "  </tbody>\n",
       "</table>\n",
       "<p>5 rows × 31 columns</p>\n",
       "</div>"
      ],
      "text/plain": [
       "   Age  DistanceFromHome  Education  EnvironmentSatisfaction  JobInvolvement  \\\n",
       "0   41                 1          2                        2               3   \n",
       "1   49                 8          1                        3               2   \n",
       "2   37                 2          2                        4               2   \n",
       "3   33                 3          4                        4               3   \n",
       "4   27                 2          1                        1               3   \n",
       "\n",
       "   JobSatisfaction  MonthlyIncome  NumCompaniesWorked  PercentSalaryHike  \\\n",
       "0                4           5993                   8                 11   \n",
       "1                2           5130                   1                 23   \n",
       "2                3           2090                   6                 15   \n",
       "3                3           2909                   1                 11   \n",
       "4                2           3468                   9                 12   \n",
       "\n",
       "   PerformanceRating  ...  Married  Single  Male  Life Sciences  Marketing  \\\n",
       "0                  3  ...        0       1     0              1          0   \n",
       "1                  4  ...        1       0     1              1          0   \n",
       "2                  3  ...        0       1     1              0          0   \n",
       "3                  3  ...        1       0     0              1          0   \n",
       "4                  3  ...        1       0     1              0          0   \n",
       "\n",
       "   Medical  Other  Technical Degree  Research & Development  Sales  \n",
       "0        0      0                 0                       0      1  \n",
       "1        0      0                 0                       1      0  \n",
       "2        0      1                 0                       1      0  \n",
       "3        0      0                 0                       1      0  \n",
       "4        1      0                 0                       1      0  \n",
       "\n",
       "[5 rows x 31 columns]"
      ]
     },
     "execution_count": 29,
     "metadata": {},
     "output_type": "execute_result"
    }
   ],
   "source": [
    "df.drop([\"Attrition\",\"BusinessTravel\",\"OverTime\",\"MaritalStatus\",\"Gender\",\"EducationField\",\"Department\"],axis=1,inplace=True)\n",
    "df.head()   # Dropping the categorical columns now as they're unnecessary"
   ]
  },
  {
   "cell_type": "code",
   "execution_count": 30,
   "id": "90215c84",
   "metadata": {
    "collapsed": true
   },
   "outputs": [
    {
     "name": "stdout",
     "output_type": "stream",
     "text": [
      "<class 'pandas.core.frame.DataFrame'>\n",
      "RangeIndex: 1470 entries, 0 to 1469\n",
      "Data columns (total 31 columns):\n",
      " #   Column                    Non-Null Count  Dtype\n",
      "---  ------                    --------------  -----\n",
      " 0   Age                       1470 non-null   int64\n",
      " 1   DistanceFromHome          1470 non-null   int64\n",
      " 2   Education                 1470 non-null   int64\n",
      " 3   EnvironmentSatisfaction   1470 non-null   int64\n",
      " 4   JobInvolvement            1470 non-null   int64\n",
      " 5   JobSatisfaction           1470 non-null   int64\n",
      " 6   MonthlyIncome             1470 non-null   int64\n",
      " 7   NumCompaniesWorked        1470 non-null   int64\n",
      " 8   PercentSalaryHike         1470 non-null   int64\n",
      " 9   PerformanceRating         1470 non-null   int64\n",
      " 10  RelationshipSatisfaction  1470 non-null   int64\n",
      " 11  TotalWorkingYears         1470 non-null   int64\n",
      " 12  WorkLifeBalance           1470 non-null   int64\n",
      " 13  YearsAtCompany            1470 non-null   int64\n",
      " 14  YearsInCurrentRole        1470 non-null   int64\n",
      " 15  YearsSinceLastPromotion   1470 non-null   int64\n",
      " 16  YearsWithCurrManager      1470 non-null   int64\n",
      " 17  ['attrition']_Yes         1470 non-null   uint8\n",
      " 18  Travel_Frequently         1470 non-null   uint8\n",
      " 19  Travel_Rarely             1470 non-null   uint8\n",
      " 20  ['overtime']_Yes          1470 non-null   uint8\n",
      " 21  Married                   1470 non-null   uint8\n",
      " 22  Single                    1470 non-null   uint8\n",
      " 23  Male                      1470 non-null   uint8\n",
      " 24  Life Sciences             1470 non-null   uint8\n",
      " 25  Marketing                 1470 non-null   uint8\n",
      " 26  Medical                   1470 non-null   uint8\n",
      " 27  Other                     1470 non-null   uint8\n",
      " 28  Technical Degree          1470 non-null   uint8\n",
      " 29  Research & Development    1470 non-null   uint8\n",
      " 30  Sales                     1470 non-null   uint8\n",
      "dtypes: int64(17), uint8(14)\n",
      "memory usage: 215.5 KB\n"
     ]
    }
   ],
   "source": [
    "df.info()"
   ]
  },
  {
   "cell_type": "code",
   "execution_count": 57,
   "id": "ca4192a4",
   "metadata": {},
   "outputs": [
    {
     "data": {
      "text/html": [
       "<div>\n",
       "<style scoped>\n",
       "    .dataframe tbody tr th:only-of-type {\n",
       "        vertical-align: middle;\n",
       "    }\n",
       "\n",
       "    .dataframe tbody tr th {\n",
       "        vertical-align: top;\n",
       "    }\n",
       "\n",
       "    .dataframe thead th {\n",
       "        text-align: right;\n",
       "    }\n",
       "</style>\n",
       "<table border=\"1\" class=\"dataframe\">\n",
       "  <thead>\n",
       "    <tr style=\"text-align: right;\">\n",
       "      <th></th>\n",
       "      <th>Age</th>\n",
       "      <th>DistanceFromHome</th>\n",
       "      <th>Education</th>\n",
       "      <th>EnvironmentSatisfaction</th>\n",
       "      <th>JobInvolvement</th>\n",
       "      <th>JobSatisfaction</th>\n",
       "      <th>MonthlyIncome</th>\n",
       "      <th>NumCompaniesWorked</th>\n",
       "      <th>PercentSalaryHike</th>\n",
       "      <th>PerformanceRating</th>\n",
       "      <th>...</th>\n",
       "      <th>Married</th>\n",
       "      <th>Single</th>\n",
       "      <th>Male</th>\n",
       "      <th>Life Sciences</th>\n",
       "      <th>Marketing</th>\n",
       "      <th>Medical</th>\n",
       "      <th>Other</th>\n",
       "      <th>Technical Degree</th>\n",
       "      <th>Research &amp; Development</th>\n",
       "      <th>Sales</th>\n",
       "    </tr>\n",
       "  </thead>\n",
       "  <tbody>\n",
       "    <tr>\n",
       "      <th>Age</th>\n",
       "      <td>1.000000</td>\n",
       "      <td>-0.001686</td>\n",
       "      <td>0.208034</td>\n",
       "      <td>0.010146</td>\n",
       "      <td>0.029820</td>\n",
       "      <td>-0.004892</td>\n",
       "      <td>0.497855</td>\n",
       "      <td>0.299635</td>\n",
       "      <td>0.003634</td>\n",
       "      <td>0.001904</td>\n",
       "      <td>...</td>\n",
       "      <td>0.083919</td>\n",
       "      <td>-0.119185</td>\n",
       "      <td>-0.036311</td>\n",
       "      <td>0.016824</td>\n",
       "      <td>0.038162</td>\n",
       "      <td>-0.006354</td>\n",
       "      <td>-0.041466</td>\n",
       "      <td>-0.027604</td>\n",
       "      <td>0.017883</td>\n",
       "      <td>-0.027549</td>\n",
       "    </tr>\n",
       "    <tr>\n",
       "      <th>DistanceFromHome</th>\n",
       "      <td>-0.001686</td>\n",
       "      <td>1.000000</td>\n",
       "      <td>0.021042</td>\n",
       "      <td>-0.016075</td>\n",
       "      <td>0.008783</td>\n",
       "      <td>-0.003669</td>\n",
       "      <td>-0.017014</td>\n",
       "      <td>-0.029251</td>\n",
       "      <td>0.040235</td>\n",
       "      <td>0.027110</td>\n",
       "      <td>...</td>\n",
       "      <td>0.030232</td>\n",
       "      <td>-0.027445</td>\n",
       "      <td>-0.001851</td>\n",
       "      <td>-0.024499</td>\n",
       "      <td>0.039294</td>\n",
       "      <td>0.013486</td>\n",
       "      <td>-0.007969</td>\n",
       "      <td>-0.014802</td>\n",
       "      <td>-0.008117</td>\n",
       "      <td>0.014085</td>\n",
       "    </tr>\n",
       "    <tr>\n",
       "      <th>Education</th>\n",
       "      <td>0.208034</td>\n",
       "      <td>0.021042</td>\n",
       "      <td>1.000000</td>\n",
       "      <td>-0.027128</td>\n",
       "      <td>0.042438</td>\n",
       "      <td>-0.011296</td>\n",
       "      <td>0.094961</td>\n",
       "      <td>0.126317</td>\n",
       "      <td>-0.011111</td>\n",
       "      <td>-0.024539</td>\n",
       "      <td>...</td>\n",
       "      <td>-0.001865</td>\n",
       "      <td>0.004168</td>\n",
       "      <td>-0.016547</td>\n",
       "      <td>0.013184</td>\n",
       "      <td>0.072405</td>\n",
       "      <td>-0.072335</td>\n",
       "      <td>0.038043</td>\n",
       "      <td>-0.026742</td>\n",
       "      <td>-0.018604</td>\n",
       "      <td>0.014215</td>\n",
       "    </tr>\n",
       "    <tr>\n",
       "      <th>EnvironmentSatisfaction</th>\n",
       "      <td>0.010146</td>\n",
       "      <td>-0.016075</td>\n",
       "      <td>-0.027128</td>\n",
       "      <td>1.000000</td>\n",
       "      <td>-0.008278</td>\n",
       "      <td>-0.006784</td>\n",
       "      <td>-0.006259</td>\n",
       "      <td>0.012594</td>\n",
       "      <td>-0.031701</td>\n",
       "      <td>-0.029548</td>\n",
       "      <td>...</td>\n",
       "      <td>-0.022180</td>\n",
       "      <td>0.009035</td>\n",
       "      <td>0.000508</td>\n",
       "      <td>-0.024526</td>\n",
       "      <td>0.000479</td>\n",
       "      <td>-0.021299</td>\n",
       "      <td>0.064602</td>\n",
       "      <td>0.027713</td>\n",
       "      <td>0.027976</td>\n",
       "      <td>-0.025606</td>\n",
       "    </tr>\n",
       "    <tr>\n",
       "      <th>JobInvolvement</th>\n",
       "      <td>0.029820</td>\n",
       "      <td>0.008783</td>\n",
       "      <td>0.042438</td>\n",
       "      <td>-0.008278</td>\n",
       "      <td>1.000000</td>\n",
       "      <td>-0.021476</td>\n",
       "      <td>-0.015271</td>\n",
       "      <td>0.015012</td>\n",
       "      <td>-0.017205</td>\n",
       "      <td>-0.029071</td>\n",
       "      <td>...</td>\n",
       "      <td>0.028324</td>\n",
       "      <td>-0.045253</td>\n",
       "      <td>0.017960</td>\n",
       "      <td>0.003228</td>\n",
       "      <td>-0.018657</td>\n",
       "      <td>0.017103</td>\n",
       "      <td>-0.011895</td>\n",
       "      <td>-0.004519</td>\n",
       "      <td>0.023187</td>\n",
       "      <td>-0.026107</td>\n",
       "    </tr>\n",
       "    <tr>\n",
       "      <th>JobSatisfaction</th>\n",
       "      <td>-0.004892</td>\n",
       "      <td>-0.003669</td>\n",
       "      <td>-0.011296</td>\n",
       "      <td>-0.006784</td>\n",
       "      <td>-0.021476</td>\n",
       "      <td>1.000000</td>\n",
       "      <td>-0.007157</td>\n",
       "      <td>-0.055699</td>\n",
       "      <td>0.020002</td>\n",
       "      <td>0.002297</td>\n",
       "      <td>...</td>\n",
       "      <td>-0.010315</td>\n",
       "      <td>0.024571</td>\n",
       "      <td>0.033252</td>\n",
       "      <td>0.052004</td>\n",
       "      <td>-0.023528</td>\n",
       "      <td>-0.022645</td>\n",
       "      <td>0.003380</td>\n",
       "      <td>-0.019795</td>\n",
       "      <td>-0.002798</td>\n",
       "      <td>0.013499</td>\n",
       "    </tr>\n",
       "    <tr>\n",
       "      <th>MonthlyIncome</th>\n",
       "      <td>0.497855</td>\n",
       "      <td>-0.017014</td>\n",
       "      <td>0.094961</td>\n",
       "      <td>-0.006259</td>\n",
       "      <td>-0.015271</td>\n",
       "      <td>-0.007157</td>\n",
       "      <td>1.000000</td>\n",
       "      <td>0.149515</td>\n",
       "      <td>-0.027269</td>\n",
       "      <td>-0.017120</td>\n",
       "      <td>...</td>\n",
       "      <td>0.056767</td>\n",
       "      <td>-0.089361</td>\n",
       "      <td>-0.031858</td>\n",
       "      <td>-0.007054</td>\n",
       "      <td>0.062576</td>\n",
       "      <td>0.001025</td>\n",
       "      <td>-0.022279</td>\n",
       "      <td>-0.049695</td>\n",
       "      <td>-0.064720</td>\n",
       "      <td>0.063978</td>\n",
       "    </tr>\n",
       "    <tr>\n",
       "      <th>NumCompaniesWorked</th>\n",
       "      <td>0.299635</td>\n",
       "      <td>-0.029251</td>\n",
       "      <td>0.126317</td>\n",
       "      <td>0.012594</td>\n",
       "      <td>0.015012</td>\n",
       "      <td>-0.055699</td>\n",
       "      <td>0.149515</td>\n",
       "      <td>1.000000</td>\n",
       "      <td>-0.010238</td>\n",
       "      <td>-0.014095</td>\n",
       "      <td>...</td>\n",
       "      <td>-0.016142</td>\n",
       "      <td>-0.019161</td>\n",
       "      <td>-0.039147</td>\n",
       "      <td>-0.006131</td>\n",
       "      <td>-0.018611</td>\n",
       "      <td>0.024826</td>\n",
       "      <td>-0.012870</td>\n",
       "      <td>-0.013819</td>\n",
       "      <td>0.022237</td>\n",
       "      <td>-0.032097</td>\n",
       "    </tr>\n",
       "    <tr>\n",
       "      <th>PercentSalaryHike</th>\n",
       "      <td>0.003634</td>\n",
       "      <td>0.040235</td>\n",
       "      <td>-0.011111</td>\n",
       "      <td>-0.031701</td>\n",
       "      <td>-0.017205</td>\n",
       "      <td>0.020002</td>\n",
       "      <td>-0.027269</td>\n",
       "      <td>-0.010238</td>\n",
       "      <td>1.000000</td>\n",
       "      <td>0.773550</td>\n",
       "      <td>...</td>\n",
       "      <td>0.020895</td>\n",
       "      <td>-0.001386</td>\n",
       "      <td>0.002733</td>\n",
       "      <td>0.010209</td>\n",
       "      <td>-0.027726</td>\n",
       "      <td>0.029116</td>\n",
       "      <td>0.019297</td>\n",
       "      <td>-0.042701</td>\n",
       "      <td>0.030735</td>\n",
       "      <td>-0.020403</td>\n",
       "    </tr>\n",
       "    <tr>\n",
       "      <th>PerformanceRating</th>\n",
       "      <td>0.001904</td>\n",
       "      <td>0.027110</td>\n",
       "      <td>-0.024539</td>\n",
       "      <td>-0.029548</td>\n",
       "      <td>-0.029071</td>\n",
       "      <td>0.002297</td>\n",
       "      <td>-0.017120</td>\n",
       "      <td>-0.014095</td>\n",
       "      <td>0.773550</td>\n",
       "      <td>1.000000</td>\n",
       "      <td>...</td>\n",
       "      <td>0.009585</td>\n",
       "      <td>-0.001045</td>\n",
       "      <td>-0.013859</td>\n",
       "      <td>0.010853</td>\n",
       "      <td>-0.020918</td>\n",
       "      <td>0.014868</td>\n",
       "      <td>0.011449</td>\n",
       "      <td>-0.021729</td>\n",
       "      <td>0.032720</td>\n",
       "      <td>-0.031050</td>\n",
       "    </tr>\n",
       "    <tr>\n",
       "      <th>RelationshipSatisfaction</th>\n",
       "      <td>0.053535</td>\n",
       "      <td>0.006557</td>\n",
       "      <td>-0.009118</td>\n",
       "      <td>0.007665</td>\n",
       "      <td>0.034297</td>\n",
       "      <td>-0.012454</td>\n",
       "      <td>0.025873</td>\n",
       "      <td>0.052733</td>\n",
       "      <td>-0.040490</td>\n",
       "      <td>-0.031351</td>\n",
       "      <td>...</td>\n",
       "      <td>-0.043382</td>\n",
       "      <td>0.040817</td>\n",
       "      <td>0.022868</td>\n",
       "      <td>-0.019973</td>\n",
       "      <td>-0.006580</td>\n",
       "      <td>0.030494</td>\n",
       "      <td>-0.020305</td>\n",
       "      <td>-0.011044</td>\n",
       "      <td>-0.004587</td>\n",
       "      <td>-0.010489</td>\n",
       "    </tr>\n",
       "    <tr>\n",
       "      <th>TotalWorkingYears</th>\n",
       "      <td>0.680381</td>\n",
       "      <td>0.004628</td>\n",
       "      <td>0.148280</td>\n",
       "      <td>-0.002693</td>\n",
       "      <td>-0.005533</td>\n",
       "      <td>-0.020185</td>\n",
       "      <td>0.772893</td>\n",
       "      <td>0.237639</td>\n",
       "      <td>-0.020608</td>\n",
       "      <td>0.006744</td>\n",
       "      <td>...</td>\n",
       "      <td>0.053512</td>\n",
       "      <td>-0.089529</td>\n",
       "      <td>-0.046881</td>\n",
       "      <td>-0.003630</td>\n",
       "      <td>0.025779</td>\n",
       "      <td>0.024890</td>\n",
       "      <td>-0.028935</td>\n",
       "      <td>-0.041577</td>\n",
       "      <td>0.011087</td>\n",
       "      <td>-0.014781</td>\n",
       "    </tr>\n",
       "    <tr>\n",
       "      <th>WorkLifeBalance</th>\n",
       "      <td>-0.021490</td>\n",
       "      <td>-0.026556</td>\n",
       "      <td>0.009819</td>\n",
       "      <td>0.027627</td>\n",
       "      <td>-0.014617</td>\n",
       "      <td>-0.019459</td>\n",
       "      <td>0.030683</td>\n",
       "      <td>-0.008366</td>\n",
       "      <td>-0.003280</td>\n",
       "      <td>0.002572</td>\n",
       "      <td>...</td>\n",
       "      <td>-0.006388</td>\n",
       "      <td>0.014921</td>\n",
       "      <td>-0.002753</td>\n",
       "      <td>-0.039728</td>\n",
       "      <td>0.018500</td>\n",
       "      <td>0.001641</td>\n",
       "      <td>0.031812</td>\n",
       "      <td>0.021962</td>\n",
       "      <td>-0.069922</td>\n",
       "      <td>0.051320</td>\n",
       "    </tr>\n",
       "    <tr>\n",
       "      <th>YearsAtCompany</th>\n",
       "      <td>0.311309</td>\n",
       "      <td>0.009508</td>\n",
       "      <td>0.069114</td>\n",
       "      <td>0.001458</td>\n",
       "      <td>-0.021355</td>\n",
       "      <td>-0.003803</td>\n",
       "      <td>0.514285</td>\n",
       "      <td>-0.118421</td>\n",
       "      <td>-0.035991</td>\n",
       "      <td>0.003435</td>\n",
       "      <td>...</td>\n",
       "      <td>0.044925</td>\n",
       "      <td>-0.070935</td>\n",
       "      <td>-0.029747</td>\n",
       "      <td>-0.002019</td>\n",
       "      <td>0.031365</td>\n",
       "      <td>0.010805</td>\n",
       "      <td>-0.030331</td>\n",
       "      <td>-0.021399</td>\n",
       "      <td>-0.032181</td>\n",
       "      <td>0.029805</td>\n",
       "    </tr>\n",
       "    <tr>\n",
       "      <th>YearsInCurrentRole</th>\n",
       "      <td>0.212901</td>\n",
       "      <td>0.018845</td>\n",
       "      <td>0.060236</td>\n",
       "      <td>0.018007</td>\n",
       "      <td>0.008717</td>\n",
       "      <td>-0.002305</td>\n",
       "      <td>0.363818</td>\n",
       "      <td>-0.090754</td>\n",
       "      <td>-0.001520</td>\n",
       "      <td>0.034986</td>\n",
       "      <td>...</td>\n",
       "      <td>0.065488</td>\n",
       "      <td>-0.086486</td>\n",
       "      <td>-0.041483</td>\n",
       "      <td>0.018343</td>\n",
       "      <td>0.025126</td>\n",
       "      <td>-0.026418</td>\n",
       "      <td>-0.017021</td>\n",
       "      <td>0.009683</td>\n",
       "      <td>-0.028151</td>\n",
       "      <td>0.046883</td>\n",
       "    </tr>\n",
       "    <tr>\n",
       "      <th>YearsSinceLastPromotion</th>\n",
       "      <td>0.216513</td>\n",
       "      <td>0.010029</td>\n",
       "      <td>0.054254</td>\n",
       "      <td>0.016194</td>\n",
       "      <td>-0.024184</td>\n",
       "      <td>-0.018214</td>\n",
       "      <td>0.344978</td>\n",
       "      <td>-0.036814</td>\n",
       "      <td>-0.022154</td>\n",
       "      <td>0.017896</td>\n",
       "      <td>...</td>\n",
       "      <td>0.054102</td>\n",
       "      <td>-0.053090</td>\n",
       "      <td>-0.026985</td>\n",
       "      <td>-0.002480</td>\n",
       "      <td>0.006219</td>\n",
       "      <td>0.022665</td>\n",
       "      <td>-0.039931</td>\n",
       "      <td>0.003853</td>\n",
       "      <td>-0.021497</td>\n",
       "      <td>0.034112</td>\n",
       "    </tr>\n",
       "    <tr>\n",
       "      <th>YearsWithCurrManager</th>\n",
       "      <td>0.202089</td>\n",
       "      <td>0.014406</td>\n",
       "      <td>0.069065</td>\n",
       "      <td>-0.004999</td>\n",
       "      <td>0.025976</td>\n",
       "      <td>-0.027656</td>\n",
       "      <td>0.344079</td>\n",
       "      <td>-0.110319</td>\n",
       "      <td>-0.011985</td>\n",
       "      <td>0.022827</td>\n",
       "      <td>...</td>\n",
       "      <td>0.032972</td>\n",
       "      <td>-0.047793</td>\n",
       "      <td>-0.030599</td>\n",
       "      <td>0.003636</td>\n",
       "      <td>0.033418</td>\n",
       "      <td>-0.011544</td>\n",
       "      <td>-0.011714</td>\n",
       "      <td>-0.000836</td>\n",
       "      <td>-0.014963</td>\n",
       "      <td>0.027415</td>\n",
       "    </tr>\n",
       "    <tr>\n",
       "      <th>['attrition']_Yes</th>\n",
       "      <td>-0.159205</td>\n",
       "      <td>0.077924</td>\n",
       "      <td>-0.031373</td>\n",
       "      <td>-0.103369</td>\n",
       "      <td>-0.130016</td>\n",
       "      <td>-0.103481</td>\n",
       "      <td>-0.159840</td>\n",
       "      <td>0.043494</td>\n",
       "      <td>-0.013478</td>\n",
       "      <td>0.002889</td>\n",
       "      <td>...</td>\n",
       "      <td>-0.090984</td>\n",
       "      <td>0.175419</td>\n",
       "      <td>0.029453</td>\n",
       "      <td>-0.032703</td>\n",
       "      <td>0.055781</td>\n",
       "      <td>-0.046999</td>\n",
       "      <td>-0.017898</td>\n",
       "      <td>0.069355</td>\n",
       "      <td>-0.085293</td>\n",
       "      <td>0.080855</td>\n",
       "    </tr>\n",
       "    <tr>\n",
       "      <th>Travel_Frequently</th>\n",
       "      <td>-0.024743</td>\n",
       "      <td>0.005081</td>\n",
       "      <td>-0.008292</td>\n",
       "      <td>-0.012624</td>\n",
       "      <td>0.004424</td>\n",
       "      <td>0.027117</td>\n",
       "      <td>-0.031658</td>\n",
       "      <td>-0.039718</td>\n",
       "      <td>-0.006675</td>\n",
       "      <td>0.016463</td>\n",
       "      <td>...</td>\n",
       "      <td>-0.030785</td>\n",
       "      <td>0.027734</td>\n",
       "      <td>-0.022015</td>\n",
       "      <td>0.031128</td>\n",
       "      <td>-0.016586</td>\n",
       "      <td>-0.005367</td>\n",
       "      <td>-0.011004</td>\n",
       "      <td>-0.023569</td>\n",
       "      <td>0.003340</td>\n",
       "      <td>-0.000160</td>\n",
       "    </tr>\n",
       "    <tr>\n",
       "      <th>Travel_Rarely</th>\n",
       "      <td>0.028791</td>\n",
       "      <td>-0.020116</td>\n",
       "      <td>0.004126</td>\n",
       "      <td>0.008496</td>\n",
       "      <td>0.026714</td>\n",
       "      <td>-0.036562</td>\n",
       "      <td>0.038779</td>\n",
       "      <td>0.032401</td>\n",
       "      <td>-0.018649</td>\n",
       "      <td>-0.026390</td>\n",
       "      <td>...</td>\n",
       "      <td>0.055613</td>\n",
       "      <td>-0.020808</td>\n",
       "      <td>-0.014682</td>\n",
       "      <td>-0.030355</td>\n",
       "      <td>0.034668</td>\n",
       "      <td>-0.003930</td>\n",
       "      <td>0.018406</td>\n",
       "      <td>0.017521</td>\n",
       "      <td>0.000465</td>\n",
       "      <td>-0.004718</td>\n",
       "    </tr>\n",
       "    <tr>\n",
       "      <th>['overtime']_Yes</th>\n",
       "      <td>0.028062</td>\n",
       "      <td>0.025514</td>\n",
       "      <td>-0.020322</td>\n",
       "      <td>0.070132</td>\n",
       "      <td>-0.003507</td>\n",
       "      <td>0.024539</td>\n",
       "      <td>0.006089</td>\n",
       "      <td>-0.020786</td>\n",
       "      <td>-0.005433</td>\n",
       "      <td>0.004369</td>\n",
       "      <td>...</td>\n",
       "      <td>-0.013502</td>\n",
       "      <td>-0.006498</td>\n",
       "      <td>-0.041924</td>\n",
       "      <td>-0.013787</td>\n",
       "      <td>0.014607</td>\n",
       "      <td>0.002246</td>\n",
       "      <td>0.024970</td>\n",
       "      <td>-0.017723</td>\n",
       "      <td>-0.003036</td>\n",
       "      <td>0.005864</td>\n",
       "    </tr>\n",
       "    <tr>\n",
       "      <th>Married</th>\n",
       "      <td>0.083919</td>\n",
       "      <td>0.030232</td>\n",
       "      <td>-0.001865</td>\n",
       "      <td>-0.022180</td>\n",
       "      <td>0.028324</td>\n",
       "      <td>-0.010315</td>\n",
       "      <td>0.056767</td>\n",
       "      <td>-0.016142</td>\n",
       "      <td>0.020895</td>\n",
       "      <td>0.009585</td>\n",
       "      <td>...</td>\n",
       "      <td>1.000000</td>\n",
       "      <td>-0.629981</td>\n",
       "      <td>-0.007804</td>\n",
       "      <td>-0.017866</td>\n",
       "      <td>0.018491</td>\n",
       "      <td>-0.007139</td>\n",
       "      <td>-0.009171</td>\n",
       "      <td>0.002710</td>\n",
       "      <td>-0.019997</td>\n",
       "      <td>0.005378</td>\n",
       "    </tr>\n",
       "    <tr>\n",
       "      <th>Single</th>\n",
       "      <td>-0.119185</td>\n",
       "      <td>-0.027445</td>\n",
       "      <td>0.004168</td>\n",
       "      <td>0.009035</td>\n",
       "      <td>-0.045253</td>\n",
       "      <td>0.024571</td>\n",
       "      <td>-0.089361</td>\n",
       "      <td>-0.019161</td>\n",
       "      <td>-0.001386</td>\n",
       "      <td>-0.001045</td>\n",
       "      <td>...</td>\n",
       "      <td>-0.629981</td>\n",
       "      <td>1.000000</td>\n",
       "      <td>-0.032752</td>\n",
       "      <td>0.021469</td>\n",
       "      <td>-0.013323</td>\n",
       "      <td>-0.004249</td>\n",
       "      <td>0.004972</td>\n",
       "      <td>0.014265</td>\n",
       "      <td>-0.009990</td>\n",
       "      <td>0.033002</td>\n",
       "    </tr>\n",
       "    <tr>\n",
       "      <th>Male</th>\n",
       "      <td>-0.036311</td>\n",
       "      <td>-0.001851</td>\n",
       "      <td>-0.016547</td>\n",
       "      <td>0.000508</td>\n",
       "      <td>0.017960</td>\n",
       "      <td>0.033252</td>\n",
       "      <td>-0.031858</td>\n",
       "      <td>-0.039147</td>\n",
       "      <td>0.002733</td>\n",
       "      <td>-0.013859</td>\n",
       "      <td>...</td>\n",
       "      <td>-0.007804</td>\n",
       "      <td>-0.032752</td>\n",
       "      <td>1.000000</td>\n",
       "      <td>0.006770</td>\n",
       "      <td>-0.024143</td>\n",
       "      <td>-0.013146</td>\n",
       "      <td>0.022992</td>\n",
       "      <td>0.003886</td>\n",
       "      <td>0.015760</td>\n",
       "      <td>-0.032017</td>\n",
       "    </tr>\n",
       "    <tr>\n",
       "      <th>Life Sciences</th>\n",
       "      <td>0.016824</td>\n",
       "      <td>-0.024499</td>\n",
       "      <td>0.013184</td>\n",
       "      <td>-0.024526</td>\n",
       "      <td>0.003228</td>\n",
       "      <td>0.052004</td>\n",
       "      <td>-0.007054</td>\n",
       "      <td>-0.006131</td>\n",
       "      <td>0.010209</td>\n",
       "      <td>0.010853</td>\n",
       "      <td>...</td>\n",
       "      <td>-0.017866</td>\n",
       "      <td>0.021469</td>\n",
       "      <td>0.006770</td>\n",
       "      <td>1.000000</td>\n",
       "      <td>-0.291660</td>\n",
       "      <td>-0.568774</td>\n",
       "      <td>-0.203560</td>\n",
       "      <td>-0.263050</td>\n",
       "      <td>0.127321</td>\n",
       "      <td>-0.101791</td>\n",
       "    </tr>\n",
       "    <tr>\n",
       "      <th>Marketing</th>\n",
       "      <td>0.038162</td>\n",
       "      <td>0.039294</td>\n",
       "      <td>0.072405</td>\n",
       "      <td>0.000479</td>\n",
       "      <td>-0.018657</td>\n",
       "      <td>-0.023528</td>\n",
       "      <td>0.062576</td>\n",
       "      <td>-0.018611</td>\n",
       "      <td>-0.027726</td>\n",
       "      <td>-0.020918</td>\n",
       "      <td>...</td>\n",
       "      <td>0.018491</td>\n",
       "      <td>-0.013323</td>\n",
       "      <td>-0.024143</td>\n",
       "      <td>-0.291660</td>\n",
       "      <td>1.000000</td>\n",
       "      <td>-0.236514</td>\n",
       "      <td>-0.084647</td>\n",
       "      <td>-0.109385</td>\n",
       "      <td>-0.478520</td>\n",
       "      <td>0.527691</td>\n",
       "    </tr>\n",
       "    <tr>\n",
       "      <th>Medical</th>\n",
       "      <td>-0.006354</td>\n",
       "      <td>0.013486</td>\n",
       "      <td>-0.072335</td>\n",
       "      <td>-0.021299</td>\n",
       "      <td>0.017103</td>\n",
       "      <td>-0.022645</td>\n",
       "      <td>0.001025</td>\n",
       "      <td>0.024826</td>\n",
       "      <td>0.029116</td>\n",
       "      <td>0.014868</td>\n",
       "      <td>...</td>\n",
       "      <td>-0.007139</td>\n",
       "      <td>-0.004249</td>\n",
       "      <td>-0.013146</td>\n",
       "      <td>-0.568774</td>\n",
       "      <td>-0.236514</td>\n",
       "      <td>1.000000</td>\n",
       "      <td>-0.165072</td>\n",
       "      <td>-0.213314</td>\n",
       "      <td>0.183548</td>\n",
       "      <td>-0.168034</td>\n",
       "    </tr>\n",
       "    <tr>\n",
       "      <th>Other</th>\n",
       "      <td>-0.041466</td>\n",
       "      <td>-0.007969</td>\n",
       "      <td>0.038043</td>\n",
       "      <td>0.064602</td>\n",
       "      <td>-0.011895</td>\n",
       "      <td>0.003380</td>\n",
       "      <td>-0.022279</td>\n",
       "      <td>-0.012870</td>\n",
       "      <td>0.019297</td>\n",
       "      <td>0.011449</td>\n",
       "      <td>...</td>\n",
       "      <td>-0.009171</td>\n",
       "      <td>0.004972</td>\n",
       "      <td>0.022992</td>\n",
       "      <td>-0.203560</td>\n",
       "      <td>-0.084647</td>\n",
       "      <td>-0.165072</td>\n",
       "      <td>1.000000</td>\n",
       "      <td>-0.076343</td>\n",
       "      <td>0.064751</td>\n",
       "      <td>-0.063695</td>\n",
       "    </tr>\n",
       "    <tr>\n",
       "      <th>Technical Degree</th>\n",
       "      <td>-0.027604</td>\n",
       "      <td>-0.014802</td>\n",
       "      <td>-0.026742</td>\n",
       "      <td>0.027713</td>\n",
       "      <td>-0.004519</td>\n",
       "      <td>-0.019795</td>\n",
       "      <td>-0.049695</td>\n",
       "      <td>-0.013819</td>\n",
       "      <td>-0.042701</td>\n",
       "      <td>-0.021729</td>\n",
       "      <td>...</td>\n",
       "      <td>0.002710</td>\n",
       "      <td>0.014265</td>\n",
       "      <td>0.003886</td>\n",
       "      <td>-0.263050</td>\n",
       "      <td>-0.109385</td>\n",
       "      <td>-0.213314</td>\n",
       "      <td>-0.076343</td>\n",
       "      <td>1.000000</td>\n",
       "      <td>0.038541</td>\n",
       "      <td>-0.031309</td>\n",
       "    </tr>\n",
       "    <tr>\n",
       "      <th>Research &amp; Development</th>\n",
       "      <td>0.017883</td>\n",
       "      <td>-0.008117</td>\n",
       "      <td>-0.018604</td>\n",
       "      <td>0.027976</td>\n",
       "      <td>0.023187</td>\n",
       "      <td>-0.002798</td>\n",
       "      <td>-0.064720</td>\n",
       "      <td>0.022237</td>\n",
       "      <td>0.030735</td>\n",
       "      <td>0.032720</td>\n",
       "      <td>...</td>\n",
       "      <td>-0.019997</td>\n",
       "      <td>-0.009990</td>\n",
       "      <td>0.015760</td>\n",
       "      <td>0.127321</td>\n",
       "      <td>-0.478520</td>\n",
       "      <td>0.183548</td>\n",
       "      <td>0.064751</td>\n",
       "      <td>0.038541</td>\n",
       "      <td>1.000000</td>\n",
       "      <td>-0.906818</td>\n",
       "    </tr>\n",
       "    <tr>\n",
       "      <th>Sales</th>\n",
       "      <td>-0.027549</td>\n",
       "      <td>0.014085</td>\n",
       "      <td>0.014215</td>\n",
       "      <td>-0.025606</td>\n",
       "      <td>-0.026107</td>\n",
       "      <td>0.013499</td>\n",
       "      <td>0.063978</td>\n",
       "      <td>-0.032097</td>\n",
       "      <td>-0.020403</td>\n",
       "      <td>-0.031050</td>\n",
       "      <td>...</td>\n",
       "      <td>0.005378</td>\n",
       "      <td>0.033002</td>\n",
       "      <td>-0.032017</td>\n",
       "      <td>-0.101791</td>\n",
       "      <td>0.527691</td>\n",
       "      <td>-0.168034</td>\n",
       "      <td>-0.063695</td>\n",
       "      <td>-0.031309</td>\n",
       "      <td>-0.906818</td>\n",
       "      <td>1.000000</td>\n",
       "    </tr>\n",
       "  </tbody>\n",
       "</table>\n",
       "<p>31 rows × 31 columns</p>\n",
       "</div>"
      ],
      "text/plain": [
       "                               Age  DistanceFromHome  Education  \\\n",
       "Age                       1.000000         -0.001686   0.208034   \n",
       "DistanceFromHome         -0.001686          1.000000   0.021042   \n",
       "Education                 0.208034          0.021042   1.000000   \n",
       "EnvironmentSatisfaction   0.010146         -0.016075  -0.027128   \n",
       "JobInvolvement            0.029820          0.008783   0.042438   \n",
       "JobSatisfaction          -0.004892         -0.003669  -0.011296   \n",
       "MonthlyIncome             0.497855         -0.017014   0.094961   \n",
       "NumCompaniesWorked        0.299635         -0.029251   0.126317   \n",
       "PercentSalaryHike         0.003634          0.040235  -0.011111   \n",
       "PerformanceRating         0.001904          0.027110  -0.024539   \n",
       "RelationshipSatisfaction  0.053535          0.006557  -0.009118   \n",
       "TotalWorkingYears         0.680381          0.004628   0.148280   \n",
       "WorkLifeBalance          -0.021490         -0.026556   0.009819   \n",
       "YearsAtCompany            0.311309          0.009508   0.069114   \n",
       "YearsInCurrentRole        0.212901          0.018845   0.060236   \n",
       "YearsSinceLastPromotion   0.216513          0.010029   0.054254   \n",
       "YearsWithCurrManager      0.202089          0.014406   0.069065   \n",
       "['attrition']_Yes        -0.159205          0.077924  -0.031373   \n",
       "Travel_Frequently        -0.024743          0.005081  -0.008292   \n",
       "Travel_Rarely             0.028791         -0.020116   0.004126   \n",
       "['overtime']_Yes          0.028062          0.025514  -0.020322   \n",
       "Married                   0.083919          0.030232  -0.001865   \n",
       "Single                   -0.119185         -0.027445   0.004168   \n",
       "Male                     -0.036311         -0.001851  -0.016547   \n",
       "Life Sciences             0.016824         -0.024499   0.013184   \n",
       "Marketing                 0.038162          0.039294   0.072405   \n",
       "Medical                  -0.006354          0.013486  -0.072335   \n",
       "Other                    -0.041466         -0.007969   0.038043   \n",
       "Technical Degree         -0.027604         -0.014802  -0.026742   \n",
       "Research & Development    0.017883         -0.008117  -0.018604   \n",
       "Sales                    -0.027549          0.014085   0.014215   \n",
       "\n",
       "                          EnvironmentSatisfaction  JobInvolvement  \\\n",
       "Age                                      0.010146        0.029820   \n",
       "DistanceFromHome                        -0.016075        0.008783   \n",
       "Education                               -0.027128        0.042438   \n",
       "EnvironmentSatisfaction                  1.000000       -0.008278   \n",
       "JobInvolvement                          -0.008278        1.000000   \n",
       "JobSatisfaction                         -0.006784       -0.021476   \n",
       "MonthlyIncome                           -0.006259       -0.015271   \n",
       "NumCompaniesWorked                       0.012594        0.015012   \n",
       "PercentSalaryHike                       -0.031701       -0.017205   \n",
       "PerformanceRating                       -0.029548       -0.029071   \n",
       "RelationshipSatisfaction                 0.007665        0.034297   \n",
       "TotalWorkingYears                       -0.002693       -0.005533   \n",
       "WorkLifeBalance                          0.027627       -0.014617   \n",
       "YearsAtCompany                           0.001458       -0.021355   \n",
       "YearsInCurrentRole                       0.018007        0.008717   \n",
       "YearsSinceLastPromotion                  0.016194       -0.024184   \n",
       "YearsWithCurrManager                    -0.004999        0.025976   \n",
       "['attrition']_Yes                       -0.103369       -0.130016   \n",
       "Travel_Frequently                       -0.012624        0.004424   \n",
       "Travel_Rarely                            0.008496        0.026714   \n",
       "['overtime']_Yes                         0.070132       -0.003507   \n",
       "Married                                 -0.022180        0.028324   \n",
       "Single                                   0.009035       -0.045253   \n",
       "Male                                     0.000508        0.017960   \n",
       "Life Sciences                           -0.024526        0.003228   \n",
       "Marketing                                0.000479       -0.018657   \n",
       "Medical                                 -0.021299        0.017103   \n",
       "Other                                    0.064602       -0.011895   \n",
       "Technical Degree                         0.027713       -0.004519   \n",
       "Research & Development                   0.027976        0.023187   \n",
       "Sales                                   -0.025606       -0.026107   \n",
       "\n",
       "                          JobSatisfaction  MonthlyIncome  NumCompaniesWorked  \\\n",
       "Age                             -0.004892       0.497855            0.299635   \n",
       "DistanceFromHome                -0.003669      -0.017014           -0.029251   \n",
       "Education                       -0.011296       0.094961            0.126317   \n",
       "EnvironmentSatisfaction         -0.006784      -0.006259            0.012594   \n",
       "JobInvolvement                  -0.021476      -0.015271            0.015012   \n",
       "JobSatisfaction                  1.000000      -0.007157           -0.055699   \n",
       "MonthlyIncome                   -0.007157       1.000000            0.149515   \n",
       "NumCompaniesWorked              -0.055699       0.149515            1.000000   \n",
       "PercentSalaryHike                0.020002      -0.027269           -0.010238   \n",
       "PerformanceRating                0.002297      -0.017120           -0.014095   \n",
       "RelationshipSatisfaction        -0.012454       0.025873            0.052733   \n",
       "TotalWorkingYears               -0.020185       0.772893            0.237639   \n",
       "WorkLifeBalance                 -0.019459       0.030683           -0.008366   \n",
       "YearsAtCompany                  -0.003803       0.514285           -0.118421   \n",
       "YearsInCurrentRole              -0.002305       0.363818           -0.090754   \n",
       "YearsSinceLastPromotion         -0.018214       0.344978           -0.036814   \n",
       "YearsWithCurrManager            -0.027656       0.344079           -0.110319   \n",
       "['attrition']_Yes               -0.103481      -0.159840            0.043494   \n",
       "Travel_Frequently                0.027117      -0.031658           -0.039718   \n",
       "Travel_Rarely                   -0.036562       0.038779            0.032401   \n",
       "['overtime']_Yes                 0.024539       0.006089           -0.020786   \n",
       "Married                         -0.010315       0.056767           -0.016142   \n",
       "Single                           0.024571      -0.089361           -0.019161   \n",
       "Male                             0.033252      -0.031858           -0.039147   \n",
       "Life Sciences                    0.052004      -0.007054           -0.006131   \n",
       "Marketing                       -0.023528       0.062576           -0.018611   \n",
       "Medical                         -0.022645       0.001025            0.024826   \n",
       "Other                            0.003380      -0.022279           -0.012870   \n",
       "Technical Degree                -0.019795      -0.049695           -0.013819   \n",
       "Research & Development          -0.002798      -0.064720            0.022237   \n",
       "Sales                            0.013499       0.063978           -0.032097   \n",
       "\n",
       "                          PercentSalaryHike  PerformanceRating  ...   Married  \\\n",
       "Age                                0.003634           0.001904  ...  0.083919   \n",
       "DistanceFromHome                   0.040235           0.027110  ...  0.030232   \n",
       "Education                         -0.011111          -0.024539  ... -0.001865   \n",
       "EnvironmentSatisfaction           -0.031701          -0.029548  ... -0.022180   \n",
       "JobInvolvement                    -0.017205          -0.029071  ...  0.028324   \n",
       "JobSatisfaction                    0.020002           0.002297  ... -0.010315   \n",
       "MonthlyIncome                     -0.027269          -0.017120  ...  0.056767   \n",
       "NumCompaniesWorked                -0.010238          -0.014095  ... -0.016142   \n",
       "PercentSalaryHike                  1.000000           0.773550  ...  0.020895   \n",
       "PerformanceRating                  0.773550           1.000000  ...  0.009585   \n",
       "RelationshipSatisfaction          -0.040490          -0.031351  ... -0.043382   \n",
       "TotalWorkingYears                 -0.020608           0.006744  ...  0.053512   \n",
       "WorkLifeBalance                   -0.003280           0.002572  ... -0.006388   \n",
       "YearsAtCompany                    -0.035991           0.003435  ...  0.044925   \n",
       "YearsInCurrentRole                -0.001520           0.034986  ...  0.065488   \n",
       "YearsSinceLastPromotion           -0.022154           0.017896  ...  0.054102   \n",
       "YearsWithCurrManager              -0.011985           0.022827  ...  0.032972   \n",
       "['attrition']_Yes                 -0.013478           0.002889  ... -0.090984   \n",
       "Travel_Frequently                 -0.006675           0.016463  ... -0.030785   \n",
       "Travel_Rarely                     -0.018649          -0.026390  ...  0.055613   \n",
       "['overtime']_Yes                  -0.005433           0.004369  ... -0.013502   \n",
       "Married                            0.020895           0.009585  ...  1.000000   \n",
       "Single                            -0.001386          -0.001045  ... -0.629981   \n",
       "Male                               0.002733          -0.013859  ... -0.007804   \n",
       "Life Sciences                      0.010209           0.010853  ... -0.017866   \n",
       "Marketing                         -0.027726          -0.020918  ...  0.018491   \n",
       "Medical                            0.029116           0.014868  ... -0.007139   \n",
       "Other                              0.019297           0.011449  ... -0.009171   \n",
       "Technical Degree                  -0.042701          -0.021729  ...  0.002710   \n",
       "Research & Development             0.030735           0.032720  ... -0.019997   \n",
       "Sales                             -0.020403          -0.031050  ...  0.005378   \n",
       "\n",
       "                            Single      Male  Life Sciences  Marketing  \\\n",
       "Age                      -0.119185 -0.036311       0.016824   0.038162   \n",
       "DistanceFromHome         -0.027445 -0.001851      -0.024499   0.039294   \n",
       "Education                 0.004168 -0.016547       0.013184   0.072405   \n",
       "EnvironmentSatisfaction   0.009035  0.000508      -0.024526   0.000479   \n",
       "JobInvolvement           -0.045253  0.017960       0.003228  -0.018657   \n",
       "JobSatisfaction           0.024571  0.033252       0.052004  -0.023528   \n",
       "MonthlyIncome            -0.089361 -0.031858      -0.007054   0.062576   \n",
       "NumCompaniesWorked       -0.019161 -0.039147      -0.006131  -0.018611   \n",
       "PercentSalaryHike        -0.001386  0.002733       0.010209  -0.027726   \n",
       "PerformanceRating        -0.001045 -0.013859       0.010853  -0.020918   \n",
       "RelationshipSatisfaction  0.040817  0.022868      -0.019973  -0.006580   \n",
       "TotalWorkingYears        -0.089529 -0.046881      -0.003630   0.025779   \n",
       "WorkLifeBalance           0.014921 -0.002753      -0.039728   0.018500   \n",
       "YearsAtCompany           -0.070935 -0.029747      -0.002019   0.031365   \n",
       "YearsInCurrentRole       -0.086486 -0.041483       0.018343   0.025126   \n",
       "YearsSinceLastPromotion  -0.053090 -0.026985      -0.002480   0.006219   \n",
       "YearsWithCurrManager     -0.047793 -0.030599       0.003636   0.033418   \n",
       "['attrition']_Yes         0.175419  0.029453      -0.032703   0.055781   \n",
       "Travel_Frequently         0.027734 -0.022015       0.031128  -0.016586   \n",
       "Travel_Rarely            -0.020808 -0.014682      -0.030355   0.034668   \n",
       "['overtime']_Yes         -0.006498 -0.041924      -0.013787   0.014607   \n",
       "Married                  -0.629981 -0.007804      -0.017866   0.018491   \n",
       "Single                    1.000000 -0.032752       0.021469  -0.013323   \n",
       "Male                     -0.032752  1.000000       0.006770  -0.024143   \n",
       "Life Sciences             0.021469  0.006770       1.000000  -0.291660   \n",
       "Marketing                -0.013323 -0.024143      -0.291660   1.000000   \n",
       "Medical                  -0.004249 -0.013146      -0.568774  -0.236514   \n",
       "Other                     0.004972  0.022992      -0.203560  -0.084647   \n",
       "Technical Degree          0.014265  0.003886      -0.263050  -0.109385   \n",
       "Research & Development   -0.009990  0.015760       0.127321  -0.478520   \n",
       "Sales                     0.033002 -0.032017      -0.101791   0.527691   \n",
       "\n",
       "                           Medical     Other  Technical Degree  \\\n",
       "Age                      -0.006354 -0.041466         -0.027604   \n",
       "DistanceFromHome          0.013486 -0.007969         -0.014802   \n",
       "Education                -0.072335  0.038043         -0.026742   \n",
       "EnvironmentSatisfaction  -0.021299  0.064602          0.027713   \n",
       "JobInvolvement            0.017103 -0.011895         -0.004519   \n",
       "JobSatisfaction          -0.022645  0.003380         -0.019795   \n",
       "MonthlyIncome             0.001025 -0.022279         -0.049695   \n",
       "NumCompaniesWorked        0.024826 -0.012870         -0.013819   \n",
       "PercentSalaryHike         0.029116  0.019297         -0.042701   \n",
       "PerformanceRating         0.014868  0.011449         -0.021729   \n",
       "RelationshipSatisfaction  0.030494 -0.020305         -0.011044   \n",
       "TotalWorkingYears         0.024890 -0.028935         -0.041577   \n",
       "WorkLifeBalance           0.001641  0.031812          0.021962   \n",
       "YearsAtCompany            0.010805 -0.030331         -0.021399   \n",
       "YearsInCurrentRole       -0.026418 -0.017021          0.009683   \n",
       "YearsSinceLastPromotion   0.022665 -0.039931          0.003853   \n",
       "YearsWithCurrManager     -0.011544 -0.011714         -0.000836   \n",
       "['attrition']_Yes        -0.046999 -0.017898          0.069355   \n",
       "Travel_Frequently        -0.005367 -0.011004         -0.023569   \n",
       "Travel_Rarely            -0.003930  0.018406          0.017521   \n",
       "['overtime']_Yes          0.002246  0.024970         -0.017723   \n",
       "Married                  -0.007139 -0.009171          0.002710   \n",
       "Single                   -0.004249  0.004972          0.014265   \n",
       "Male                     -0.013146  0.022992          0.003886   \n",
       "Life Sciences            -0.568774 -0.203560         -0.263050   \n",
       "Marketing                -0.236514 -0.084647         -0.109385   \n",
       "Medical                   1.000000 -0.165072         -0.213314   \n",
       "Other                    -0.165072  1.000000         -0.076343   \n",
       "Technical Degree         -0.213314 -0.076343          1.000000   \n",
       "Research & Development    0.183548  0.064751          0.038541   \n",
       "Sales                    -0.168034 -0.063695         -0.031309   \n",
       "\n",
       "                          Research & Development     Sales  \n",
       "Age                                     0.017883 -0.027549  \n",
       "DistanceFromHome                       -0.008117  0.014085  \n",
       "Education                              -0.018604  0.014215  \n",
       "EnvironmentSatisfaction                 0.027976 -0.025606  \n",
       "JobInvolvement                          0.023187 -0.026107  \n",
       "JobSatisfaction                        -0.002798  0.013499  \n",
       "MonthlyIncome                          -0.064720  0.063978  \n",
       "NumCompaniesWorked                      0.022237 -0.032097  \n",
       "PercentSalaryHike                       0.030735 -0.020403  \n",
       "PerformanceRating                       0.032720 -0.031050  \n",
       "RelationshipSatisfaction               -0.004587 -0.010489  \n",
       "TotalWorkingYears                       0.011087 -0.014781  \n",
       "WorkLifeBalance                        -0.069922  0.051320  \n",
       "YearsAtCompany                         -0.032181  0.029805  \n",
       "YearsInCurrentRole                     -0.028151  0.046883  \n",
       "YearsSinceLastPromotion                -0.021497  0.034112  \n",
       "YearsWithCurrManager                   -0.014963  0.027415  \n",
       "['attrition']_Yes                      -0.085293  0.080855  \n",
       "Travel_Frequently                       0.003340 -0.000160  \n",
       "Travel_Rarely                           0.000465 -0.004718  \n",
       "['overtime']_Yes                       -0.003036  0.005864  \n",
       "Married                                -0.019997  0.005378  \n",
       "Single                                 -0.009990  0.033002  \n",
       "Male                                    0.015760 -0.032017  \n",
       "Life Sciences                           0.127321 -0.101791  \n",
       "Marketing                              -0.478520  0.527691  \n",
       "Medical                                 0.183548 -0.168034  \n",
       "Other                                   0.064751 -0.063695  \n",
       "Technical Degree                        0.038541 -0.031309  \n",
       "Research & Development                  1.000000 -0.906818  \n",
       "Sales                                  -0.906818  1.000000  \n",
       "\n",
       "[31 rows x 31 columns]"
      ]
     },
     "execution_count": 57,
     "metadata": {},
     "output_type": "execute_result"
    }
   ],
   "source": [
    "corr = df.corr()\n",
    "corr         "
   ]
  },
  {
   "cell_type": "code",
   "execution_count": 32,
   "id": "53ccf70e",
   "metadata": {
    "collapsed": true
   },
   "outputs": [
    {
     "data": {
      "text/plain": [
       "<AxesSubplot:>"
      ]
     },
     "execution_count": 32,
     "metadata": {},
     "output_type": "execute_result"
    },
    {
     "data": {
      "image/png": "[encoded data removed]",
      "text/plain": [
       "<Figure size 432x288 with 2 Axes>"
      ]
     },
     "metadata": {
      "needs_background": "light"
     },
     "output_type": "display_data"
    }
   ],
   "source": [
    "sns.heatmap(corr,annot=True)"
   ]
  },
  {
   "cell_type": "markdown",
   "id": "f6e6971c",
   "metadata": {},
   "source": [
    "# splitting the data"
   ]
  },
  {
   "cell_type": "code",
   "execution_count": 33,
   "id": "04e43d90",
   "metadata": {},
   "outputs": [],
   "source": [
    "from sklearn.linear_model import LogisticRegression\n",
    "from sklearn.model_selection import train_test_split"
   ]
  },
  {
   "cell_type": "code",
   "execution_count": 34,
   "id": "fc0f7b81",
   "metadata": {},
   "outputs": [],
   "source": [
    "X=df.drop(\"['attrition']_Yes\",axis=1)\n",
    "y=df[\"['attrition']_Yes\"]"
   ]
  },
  {
   "cell_type": "code",
   "execution_count": 35,
   "id": "429cdfca",
   "metadata": {},
   "outputs": [],
   "source": [
    "X_train, X_test, y_train, y_test = train_test_split( X, y, test_size=0.30, random_state=42)"
   ]
  },
  {
   "cell_type": "markdown",
   "id": "fb26e2c5",
   "metadata": {},
   "source": [
    "# Logistic Regression"
   ]
  },
  {
   "cell_type": "code",
   "execution_count": 36,
   "id": "01483450",
   "metadata": {},
   "outputs": [
    {
     "name": "stderr",
     "output_type": "stream",
     "text": [
      "C:\\Users\\DELL\\anaconda3\\lib\\site-packages\\sklearn\\linear_model\\_logistic.py:763: ConvergenceWarning: lbfgs failed to converge (status=1):\n",
      "STOP: TOTAL NO. of ITERATIONS REACHED LIMIT.\n",
      "\n",
      "Increase the number of iterations (max_iter) or scale the data as shown in:\n",
      "    https://scikit-learn.org/stable/modules/preprocessing.html\n",
      "Please also refer to the documentation for alternative solver options:\n",
      "    https://scikit-learn.org/stable/modules/linear_model.html#logistic-regression\n",
      "  n_iter_i = _check_optimize_result(\n"
     ]
    },
    {
     "data": {
      "text/plain": [
       "LogisticRegression()"
      ]
     },
     "execution_count": 36,
     "metadata": {},
     "output_type": "execute_result"
    }
   ],
   "source": [
    "model=LogisticRegression()\n",
    "model.fit(X_train,y_train)"
   ]
  },
  {
   "cell_type": "code",
   "execution_count": 37,
   "id": "577f6a4b",
   "metadata": {},
   "outputs": [],
   "source": [
    "predictions=model.predict(X_test)"
   ]
  },
  {
   "cell_type": "code",
   "execution_count": 38,
   "id": "892a4d5f",
   "metadata": {},
   "outputs": [
    {
     "data": {
      "text/plain": [
       "0.8503401360544217"
      ]
     },
     "execution_count": 38,
     "metadata": {},
     "output_type": "execute_result"
    }
   ],
   "source": [
    "from sklearn.metrics import accuracy_score\n",
    "accuracy_score(y_test,predictions)"
   ]
  },
  {
   "cell_type": "code",
   "execution_count": 39,
   "id": "e1a6184d",
   "metadata": {},
   "outputs": [
    {
     "name": "stdout",
     "output_type": "stream",
     "text": [
      "              precision    recall  f1-score   support\n",
      "\n",
      "           0       0.87      0.97      0.92       380\n",
      "           1       0.33      0.08      0.13        61\n",
      "\n",
      "    accuracy                           0.85       441\n",
      "   macro avg       0.60      0.53      0.52       441\n",
      "weighted avg       0.79      0.85      0.81       441\n",
      "\n"
     ]
    }
   ],
   "source": [
    "from sklearn import metrics\n",
    "print(metrics.classification_report(y_test, predictions))"
   ]
  },
  {
   "cell_type": "code",
   "execution_count": 40,
   "id": "8d13441c",
   "metadata": {},
   "outputs": [
    {
     "data": {
      "text/plain": [
       "array([[370,  10],\n",
       "       [ 56,   5]], dtype=int64)"
      ]
     },
     "execution_count": 40,
     "metadata": {},
     "output_type": "execute_result"
    }
   ],
   "source": [
    "from sklearn.metrics import confusion_matrix\n",
    "confusion_matrix(y_test,predictions)"
   ]
  },
  {
   "cell_type": "code",
   "execution_count": 41,
   "id": "226aa9c5",
   "metadata": {},
   "outputs": [
    {
     "data": {
      "text/plain": [
       "<AxesSubplot:>"
      ]
     },
     "execution_count": 41,
     "metadata": {},
     "output_type": "execute_result"
    },
    {
     "data": {
      "image/png": "[encoded data removed]",
      "text/plain": [
       "<Figure size 504x360 with 2 Axes>"
      ]
     },
     "metadata": {
      "needs_background": "light"
     },
     "output_type": "display_data"
    }
   ],
   "source": [
    "from sklearn import metrics\n",
    "cm=metrics.confusion_matrix(y_test, predictions, labels=[1, 0])\n",
    "\n",
    "df_cm = pd.DataFrame(cm, index = [i for i in [\"1\",\"0\"]],\n",
    "                  columns = [i for i in [\"Predict 1\",\"Predict 0\"]])\n",
    "plt.figure(figsize = (7,5))\n",
    "sns.heatmap(df_cm, annot=True,fmt='g')\n",
    "\n",
    "#as can be seen the F.p are 10,and T.N are 56, where we should try to reduce T.N effectively"
   ]
  },
  {
   "cell_type": "markdown",
   "id": "4eb677e1",
   "metadata": {},
   "source": [
    "# DESICIONTREE"
   ]
  },
  {
   "cell_type": "code",
   "execution_count": 42,
   "id": "6785802c",
   "metadata": {},
   "outputs": [
    {
     "data": {
      "text/plain": [
       "DecisionTreeClassifier(random_state=1)"
      ]
     },
     "execution_count": 42,
     "metadata": {},
     "output_type": "execute_result"
    }
   ],
   "source": [
    "dTree = DecisionTreeClassifier(criterion = 'gini', random_state=1)\n",
    "dTree.fit(X_train, y_train)"
   ]
  },
  {
   "cell_type": "code",
   "execution_count": 43,
   "id": "4db6fbd7",
   "metadata": {},
   "outputs": [
    {
     "name": "stdout",
     "output_type": "stream",
     "text": [
      "1.0\n",
      "0.7687074829931972\n"
     ]
    }
   ],
   "source": [
    "print(dTree.score(X_train, y_train))\n",
    "print(dTree.score(X_test, y_test))\n",
    "\n",
    "# as can be seen its overfitting"
   ]
  },
  {
   "cell_type": "code",
   "execution_count": 44,
   "id": "c8f73dd1",
   "metadata": {},
   "outputs": [],
   "source": [
    "train_char_label = ['No', 'Yes']\n",
    "Credit_Tree_File = open('credit_tree.dot','w')\n",
    "dot_data = tree.export_graphviz(dTree, out_file=Credit_Tree_File, feature_names = list(X_train), class_names = list(train_char_label))\n",
    "Credit_Tree_File.close()"
   ]
  },
  {
   "cell_type": "markdown",
   "id": "bc7d36df",
   "metadata": {},
   "source": [
    "# reduce overfitting (Regularization)"
   ]
  },
  {
   "cell_type": "code",
   "execution_count": 45,
   "id": "5176eda3",
   "metadata": {},
   "outputs": [
    {
     "name": "stdout",
     "output_type": "stream",
     "text": [
      "0.8726919339164237\n",
      "0.8684807256235828\n"
     ]
    }
   ],
   "source": [
    "dTreeR = DecisionTreeClassifier(criterion = 'gini', max_depth = 4, random_state=1)\n",
    "dTreeR.fit(X_train, y_train)\n",
    "print(dTreeR.score(X_train, y_train))\n",
    "print(dTreeR.score(X_test, y_test))        # curbing the no. of trees to 4"
   ]
  },
  {
   "cell_type": "code",
   "execution_count": 46,
   "id": "2b99b85a",
   "metadata": {},
   "outputs": [
    {
     "name": "stdout",
     "output_type": "stream",
     "text": [
      "0.8824101068999028\n",
      "0.873015873015873\n"
     ]
    }
   ],
   "source": [
    "dTreeR1 = DecisionTreeClassifier(criterion = 'entropy', max_depth =5, random_state=1)\n",
    "dTreeR1.fit(X_train, y_train)\n",
    "print(dTreeR1.score(X_train, y_train))\n",
    "print(dTreeR1.score(X_test, y_test))   #checking with entropy, with depth 5"
   ]
  },
  {
   "cell_type": "code",
   "execution_count": 47,
   "id": "18d82a12",
   "metadata": {},
   "outputs": [
    {
     "name": "stdout",
     "output_type": "stream",
     "text": [
      "0.873015873015873\n"
     ]
    },
    {
     "data": {
      "text/plain": [
       "<AxesSubplot:>"
      ]
     },
     "execution_count": 47,
     "metadata": {},
     "output_type": "execute_result"
    },
    {
     "data": {
      "image/png": "[encoded data removed]",
      "text/plain": [
       "<Figure size 504x360 with 2 Axes>"
      ]
     },
     "metadata": {
      "needs_background": "light"
     },
     "output_type": "display_data"
    }
   ],
   "source": [
    "print(dTreeR1.score(X_test , y_test))\n",
    "y_predict = dTreeR.predict(X_test)\n",
    "\n",
    "cm=metrics.confusion_matrix(y_test, y_predict, labels=[0, 1])\n",
    "\n",
    "df_cm = pd.DataFrame(cm, index = [i for i in [\"No\",\"Yes\"]],\n",
    "                  columns = [i for i in [\"No\",\"Yes\"]])\n",
    "plt.figure(figsize = (7,5))\n",
    "sns.heatmap(df_cm, annot=True ,fmt='g')      # no. of T.N are 54\n"
   ]
  },
  {
   "cell_type": "markdown",
   "id": "7c76b383",
   "metadata": {},
   "source": [
    "# ENSEMBLE-Bagging"
   ]
  },
  {
   "cell_type": "code",
   "execution_count": 48,
   "id": "482b5914",
   "metadata": {},
   "outputs": [
    {
     "name": "stdout",
     "output_type": "stream",
     "text": [
      "0.8571428571428571\n"
     ]
    }
   ],
   "source": [
    "from sklearn.ensemble import BaggingClassifier\n",
    "\n",
    "bgcl = BaggingClassifier(base_estimator=dTree,n_estimators=100,random_state=1)\n",
    "#bgcl = BaggingClassifier(n_estimators=100,random_state=1)\n",
    "\n",
    "bgcl = bgcl.fit(X_train, y_train)\n",
    "y_predict = bgcl.predict(X_test)\n",
    "\n",
    "print(bgcl.score(X_test , y_test))"
   ]
  },
  {
   "cell_type": "code",
   "execution_count": 49,
   "id": "9a58efa5",
   "metadata": {},
   "outputs": [
    {
     "data": {
      "text/plain": [
       "<AxesSubplot:>"
      ]
     },
     "execution_count": 49,
     "metadata": {},
     "output_type": "execute_result"
    },
    {
     "data": {
      "image/png": "[encoded data removed]",
      "text/plain": [
       "<Figure size 504x360 with 2 Axes>"
      ]
     },
     "metadata": {
      "needs_background": "light"
     },
     "output_type": "display_data"
    }
   ],
   "source": [
    "cm=metrics.confusion_matrix(y_test, y_predict,labels=[0, 1])\n",
    "\n",
    "df_cm = pd.DataFrame(cm, index = [i for i in [\"No\",\"Yes\"]],\n",
    "                  columns = [i for i in [\"No\",\"Yes\"]])\n",
    "plt.figure(figsize = (7,5))\n",
    "sns.heatmap(df_cm, annot=True ,fmt='g')  #T.N reduced to 49 but F.P increased to 14"
   ]
  },
  {
   "cell_type": "markdown",
   "id": "683ddbd4",
   "metadata": {},
   "source": [
    "# ENSEMBLE - Ada boosting"
   ]
  },
  {
   "cell_type": "code",
   "execution_count": 50,
   "id": "fe175bc0",
   "metadata": {},
   "outputs": [
    {
     "name": "stdout",
     "output_type": "stream",
     "text": [
      "0.8752834467120182\n"
     ]
    }
   ],
   "source": [
    "from sklearn.ensemble import AdaBoostClassifier\n",
    "abcl = AdaBoostClassifier(n_estimators=180, random_state=1)\n",
    "                                     #abcl = AdaBoostClassifier( n_estimators=180,random_state=1)\n",
    "abcl = abcl.fit(X_train, y_train)\n",
    "                                    # no.of estimators =180 is the best choice.\n",
    "y_predict = abcl.predict(X_test)\n",
    "print(abcl.score(X_test , y_test))"
   ]
  },
  {
   "cell_type": "code",
   "execution_count": 51,
   "id": "d55ebe24",
   "metadata": {},
   "outputs": [
    {
     "data": {
      "text/plain": [
       "<AxesSubplot:>"
      ]
     },
     "execution_count": 51,
     "metadata": {},
     "output_type": "execute_result"
    },
    {
     "data": {
      "image/png": "[encoded data removed]",
      "text/plain": [
       "<Figure size 504x360 with 2 Axes>"
      ]
     },
     "metadata": {
      "needs_background": "light"
     },
     "output_type": "display_data"
    }
   ],
   "source": [
    "cm=metrics.confusion_matrix(y_test, y_predict,labels=[0, 1])\n",
    "\n",
    "df_cm = pd.DataFrame(cm, index = [i for i in [\"No\",\"Yes\"]],\n",
    "                  columns = [i for i in [\"No\",\"Yes\"]])\n",
    "plt.figure(figsize = (7,5))\n",
    "sns.heatmap(df_cm, annot=True ,fmt='g')   # #T.N reduced to 38 but F.P increased to 17"
   ]
  },
  {
   "cell_type": "markdown",
   "id": "155c673b",
   "metadata": {},
   "source": [
    "# ENSEMBLE - Gradient Boosting"
   ]
  },
  {
   "cell_type": "code",
   "execution_count": 52,
   "id": "8f82d1ae",
   "metadata": {},
   "outputs": [
    {
     "name": "stdout",
     "output_type": "stream",
     "text": [
      "0.8707482993197279\n"
     ]
    }
   ],
   "source": [
    "from sklearn.ensemble import GradientBoostingClassifier\n",
    "gbcl = GradientBoostingClassifier(n_estimators = 50,random_state=1)\n",
    "gbcl = gbcl.fit(X_train, y_train)\n",
    "y_predict = gbcl.predict(X_test)\n",
    "print(gbcl.score(X_test, y_test))"
   ]
  },
  {
   "cell_type": "code",
   "execution_count": 53,
   "id": "e51cfc31",
   "metadata": {},
   "outputs": [
    {
     "data": {
      "text/plain": [
       "<AxesSubplot:>"
      ]
     },
     "execution_count": 53,
     "metadata": {},
     "output_type": "execute_result"
    },
    {
     "data": {
      "image/png": "[encoded data removed]",
      "text/plain": [
       "<Figure size 504x360 with 2 Axes>"
      ]
     },
     "metadata": {
      "needs_background": "light"
     },
     "output_type": "display_data"
    }
   ],
   "source": [
    "cm=metrics.confusion_matrix(y_test, y_predict,labels=[0, 1])\n",
    "\n",
    "df_cm = pd.DataFrame(cm, index = [i for i in [\"No\",\"Yes\"]],\n",
    "                  columns = [i for i in [\"No\",\"Yes\"]])\n",
    "plt.figure(figsize = (7,5))\n",
    "sns.heatmap(df_cm, annot=True ,fmt='g') #T.N = 48, F.P = 9"
   ]
  },
  {
   "cell_type": "markdown",
   "id": "9b308888",
   "metadata": {},
   "source": [
    "# Ensemble RandomForest Classifier"
   ]
  },
  {
   "cell_type": "code",
   "execution_count": 54,
   "id": "bc9aa62f",
   "metadata": {},
   "outputs": [
    {
     "name": "stdout",
     "output_type": "stream",
     "text": [
      "0.8594104308390023\n"
     ]
    }
   ],
   "source": [
    "from sklearn.ensemble import RandomForestClassifier\n",
    "rfcl = RandomForestClassifier(n_estimators = 200, random_state=1,max_features=12)\n",
    "rfcl = rfcl.fit(X_train, y_train)\n",
    "y_predict = rfcl.predict(X_test)\n",
    "print(rfcl.score(X_test, y_test))  # 12 no. of feauters is the best choice"
   ]
  },
  {
   "cell_type": "code",
   "execution_count": 55,
   "id": "6a3637aa",
   "metadata": {},
   "outputs": [
    {
     "data": {
      "text/plain": [
       "<AxesSubplot:>"
      ]
     },
     "execution_count": 55,
     "metadata": {},
     "output_type": "execute_result"
    },
    {
     "data": {
      "image/png": "[encoded data removed]",
      "text/plain": [
       "<Figure size 504x360 with 2 Axes>"
      ]
     },
     "metadata": {
      "needs_background": "light"
     },
     "output_type": "display_data"
    }
   ],
   "source": [
    "cm=metrics.confusion_matrix(y_test, y_predict,labels=[0, 1])\n",
    "\n",
    "df_cm = pd.DataFrame(cm, index = [i for i in [\"No\",\"Yes\"]],\n",
    "                  columns = [i for i in [\"No\",\"Yes\"]])\n",
    "plt.figure(figsize = (7,5))\n",
    "sns.heatmap(df_cm, annot=True ,fmt='g')"
   ]
  },
  {
   "cell_type": "markdown",
   "id": "551e72e3",
   "metadata": {},
   "source": [
    "# as can be seen, ADA-Boosting is the best model with an accuracy of 87.5%,  followed by decisiontree with entropy as criterion with regularisation,with accuracy of 87.3%"
   ]
  },
  {
   "cell_type": "markdown",
   "id": "29ac1dde",
   "metadata": {},
   "source": [
    "# OBSERVATIONS and SUGGESTIONS to reduce Attrition rate\n",
    "\n",
    "## for the company to reduce Attrition, it has to focus on it's R&D Department.. as they're facing highest Attrition rate\n",
    "\n",
    "## and factors like Age,Monthly income and Being single play a key role..so, it  might help to give some pay-rises, and staff of high age have less attrition,so try to employ experienced staff..\n",
    "\n",
    "## the male staff is facing a little higher Attrition rate than female staff\n",
    "\n",
    "\n",
    "## as Environment satisfaction and Job satisfaction play a role too.., a proper complaint maintenance system for solving problems of work-environment..will definitley help to reduce Attrition\n",
    "\n",
    "## and also,staff who travel rarely have a high Attrition rate,so travelling might help reduce Attrition..\n",
    "\n",
    "## staff who work overtime are likely to face attrition,so distributing the work-load, might work effectively..\n",
    "\n",
    "## and also, staff who have worked under the same manager for a long time..have a less Attrition rate.. so,mantaing the same teams,will be benificial..\n",
    "\n",
    "## and other factors like Distance from home,no.of years in education,dont have a distinct pattern,but do play a role.."
   ]
  },
  {
   "cell_type": "code",
   "execution_count": null,
   "id": "17e7493a",
   "metadata": {},
   "outputs": [],
   "source": []
  },
  {
   "cell_type": "code",
   "execution_count": null,
   "id": "dd1a4680",
   "metadata": {},
   "outputs": [],
   "source": []
  }
 ],
 "metadata": {
  "kernelspec": {
   "display_name": "Python 3",
   "language": "python",
   "name": "python3"
  },
  "language_info": {
   "codemirror_mode": {
    "name": "ipython",
    "version": 3
   },
   "file_extension": ".py",
   "mimetype": "text/x-python",
   "name": "python",
   "nbconvert_exporter": "python",
   "pygments_lexer": "ipython3",
   "version": "3.8.8"
  }
 },
 "nbformat": 4,
 "nbformat_minor": 5
}
